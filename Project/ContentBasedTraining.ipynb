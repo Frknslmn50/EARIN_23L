{
 "cells": [
  {
   "attachments": {},
   "cell_type": "markdown",
   "metadata": {},
   "source": [
    "# Training Content Based Filtering Model"
   ]
  },
  {
   "attachments": {},
   "cell_type": "markdown",
   "metadata": {},
   "source": [
    "* Importing the necessary libraries:"
   ]
  },
  {
   "cell_type": "code",
   "execution_count": 1,
   "metadata": {},
   "outputs": [],
   "source": [
    "import pandas as pd\n",
    "import numpy as np\n",
    "from sklearn.feature_extraction.text import TfidfVectorizer\n",
    "from sklearn.metrics.pairwise import linear_kernel"
   ]
  },
  {
   "attachments": {},
   "cell_type": "markdown",
   "metadata": {},
   "source": [
    "* Importing the dataset:"
   ]
  },
  {
   "cell_type": "code",
   "execution_count": 3,
   "metadata": {},
   "outputs": [
    {
     "data": {
      "text/html": [
       "<div>\n",
       "<style scoped>\n",
       "    .dataframe tbody tr th:only-of-type {\n",
       "        vertical-align: middle;\n",
       "    }\n",
       "\n",
       "    .dataframe tbody tr th {\n",
       "        vertical-align: top;\n",
       "    }\n",
       "\n",
       "    .dataframe thead th {\n",
       "        text-align: right;\n",
       "    }\n",
       "</style>\n",
       "<table border=\"1\" class=\"dataframe\">\n",
       "  <thead>\n",
       "    <tr style=\"text-align: right;\">\n",
       "      <th></th>\n",
       "      <th>anime_id</th>\n",
       "      <th>name</th>\n",
       "      <th>genre</th>\n",
       "      <th>type</th>\n",
       "      <th>episodes</th>\n",
       "      <th>rating</th>\n",
       "      <th>members</th>\n",
       "    </tr>\n",
       "  </thead>\n",
       "  <tbody>\n",
       "    <tr>\n",
       "      <th>0</th>\n",
       "      <td>32281</td>\n",
       "      <td>Kimi no Na wa.</td>\n",
       "      <td>Drama, Romance, School, Supernatural</td>\n",
       "      <td>Movie</td>\n",
       "      <td>1.0</td>\n",
       "      <td>9.37</td>\n",
       "      <td>200630</td>\n",
       "    </tr>\n",
       "    <tr>\n",
       "      <th>1</th>\n",
       "      <td>5114</td>\n",
       "      <td>Fullmetal Alchemist: Brotherhood</td>\n",
       "      <td>Action, Adventure, Drama, Fantasy, Magic, Mili...</td>\n",
       "      <td>TV</td>\n",
       "      <td>64.0</td>\n",
       "      <td>9.26</td>\n",
       "      <td>793665</td>\n",
       "    </tr>\n",
       "    <tr>\n",
       "      <th>2</th>\n",
       "      <td>28977</td>\n",
       "      <td>Gintama°</td>\n",
       "      <td>Action, Comedy, Historical, Parody, Samurai, S...</td>\n",
       "      <td>TV</td>\n",
       "      <td>51.0</td>\n",
       "      <td>9.25</td>\n",
       "      <td>114262</td>\n",
       "    </tr>\n",
       "    <tr>\n",
       "      <th>3</th>\n",
       "      <td>9253</td>\n",
       "      <td>Steins;Gate</td>\n",
       "      <td>Sci-Fi, Thriller</td>\n",
       "      <td>TV</td>\n",
       "      <td>24.0</td>\n",
       "      <td>9.17</td>\n",
       "      <td>673572</td>\n",
       "    </tr>\n",
       "    <tr>\n",
       "      <th>4</th>\n",
       "      <td>9969</td>\n",
       "      <td>Gintama</td>\n",
       "      <td>Action, Comedy, Historical, Parody, Samurai, S...</td>\n",
       "      <td>TV</td>\n",
       "      <td>51.0</td>\n",
       "      <td>9.16</td>\n",
       "      <td>151266</td>\n",
       "    </tr>\n",
       "  </tbody>\n",
       "</table>\n",
       "</div>"
      ],
      "text/plain": [
       "   anime_id                              name  \\\n",
       "0     32281                    Kimi no Na wa.   \n",
       "1      5114  Fullmetal Alchemist: Brotherhood   \n",
       "2     28977                          Gintama°   \n",
       "3      9253                       Steins;Gate   \n",
       "4      9969                           Gintama   \n",
       "\n",
       "                                               genre   type  episodes  rating  \\\n",
       "0               Drama, Romance, School, Supernatural  Movie       1.0    9.37   \n",
       "1  Action, Adventure, Drama, Fantasy, Magic, Mili...     TV      64.0    9.26   \n",
       "2  Action, Comedy, Historical, Parody, Samurai, S...     TV      51.0    9.25   \n",
       "3                                   Sci-Fi, Thriller     TV      24.0    9.17   \n",
       "4  Action, Comedy, Historical, Parody, Samurai, S...     TV      51.0    9.16   \n",
       "\n",
       "   members  \n",
       "0   200630  \n",
       "1   793665  \n",
       "2   114262  \n",
       "3   673572  \n",
       "4   151266  "
      ]
     },
     "execution_count": 3,
     "metadata": {},
     "output_type": "execute_result"
    }
   ],
   "source": [
    "anime = pd.read_csv('data/cleaned/anime.csv')\n",
    "anime.head()"
   ]
  },
  {
   "attachments": {},
   "cell_type": "markdown",
   "metadata": {},
   "source": [
    "* TF-IDF Vectorizer: TF-IDF stands for Term Frequency-Inverse Document Frequency. It is a technique to quantify a word in documents, we generally compute a weight to each word which signifies the importance of the word in the document and corpus. We will use this method to get numeric vectors for each anime, which we can use to find similar contents."
   ]
  },
  {
   "cell_type": "code",
   "execution_count": 4,
   "metadata": {},
   "outputs": [
    {
     "data": {
      "text/plain": [
       "(9211, 5155)"
      ]
     },
     "execution_count": 4,
     "metadata": {},
     "output_type": "execute_result"
    }
   ],
   "source": [
    "genres_str = anime['genre'].str.split(',').astype(str)\n",
    "\n",
    "tfidf = TfidfVectorizer(analyzer='word', ngram_range=(1, 4), min_df=0)\n",
    "tfidf_matrix = tfidf.fit_transform(genres_str)\n",
    "\n",
    "tfidf_matrix.shape"
   ]
  },
  {
   "attachments": {},
   "cell_type": "markdown",
   "metadata": {},
   "source": [
    "We are using the combinations of genre up to 4 elements to get the similarity between the contents. Here are the examples of the combinations:"
   ]
  },
  {
   "cell_type": "code",
   "execution_count": 5,
   "metadata": {},
   "outputs": [
    {
     "data": {
      "text/plain": [
       "array(['action', 'action adventure', 'action adventure cars',\n",
       "       'action adventure cars comedy', 'action adventure cars mecha',\n",
       "       'action adventure cars sci', 'action adventure comedy',\n",
       "       'action adventure comedy demons', 'action adventure comedy drama',\n",
       "       'action adventure comedy ecchi'], dtype=object)"
      ]
     },
     "execution_count": 5,
     "metadata": {},
     "output_type": "execute_result"
    }
   ],
   "source": [
    "tfidf.get_feature_names_out()[:10]"
   ]
  },
  {
   "attachments": {},
   "cell_type": "markdown",
   "metadata": {},
   "source": [
    "* Calculating the cosine similarity between each anime pair:"
   ]
  },
  {
   "cell_type": "code",
   "execution_count": 6,
   "metadata": {},
   "outputs": [],
   "source": [
    "cosine_sim = linear_kernel(tfidf_matrix, tfidf_matrix)"
   ]
  },
  {
   "attachments": {},
   "cell_type": "markdown",
   "metadata": {},
   "source": [
    "* Creating a function to get recommendations: Following function will take the name of the anime and will return the top 10 similar anime recommendations. If highest rating flag is set to True, it will return the top 10 highest rated anime from the similar anime list. If similarity flag is set to True, it will show the similarity score of each anime with the given anime."
   ]
  },
  {
   "cell_type": "code",
   "execution_count": 7,
   "metadata": {},
   "outputs": [],
   "source": [
    "indices = pd.Series(anime.index, index=anime['name'])\n",
    "\n",
    "def get_recommendations(title, highest_rating=False, similarity=False):\n",
    "    idx = indices[title]\n",
    "    sim_scores = list(enumerate(cosine_sim[idx]))\n",
    "    sim_scores = sorted(sim_scores, key=lambda x: x[1], reverse=True)\n",
    "    sim_scores = sim_scores[1:11]\n",
    "\n",
    "    anime_indices = [i[0] for i in sim_scores]\n",
    "\n",
    "    if similarity == False:\n",
    "        \n",
    "        result_df = pd.DataFrame({'Anime name': anime['name'].iloc[anime_indices].values,\n",
    "                                'Type': anime['type'].iloc[anime_indices].values,\n",
    "                                'Rating': anime['rating'].iloc[anime_indices].values})\n",
    "        \n",
    "    elif similarity == True:\n",
    "        similarity_ = [i[1] for i in sim_scores]\n",
    "\n",
    "        result_df = pd.DataFrame({'Anime name': anime['name'].iloc[anime_indices].values,\n",
    "                                'Similarity': similarity_,\n",
    "                                'Type': anime['type'].iloc[anime_indices].values,\n",
    "                                'Rating': anime['rating'].iloc[anime_indices].values})\n",
    "    if highest_rating == True:\n",
    "        return result_df.sort_values('Rating', ascending=False)\n",
    "    else:\n",
    "        return result_df"
   ]
  },
  {
   "attachments": {},
   "cell_type": "markdown",
   "metadata": {},
   "source": [
    "* Here are some examples of the recommendations:"
   ]
  },
  {
   "cell_type": "code",
   "execution_count": 8,
   "metadata": {},
   "outputs": [
    {
     "data": {
      "text/html": [
       "<div>\n",
       "<style scoped>\n",
       "    .dataframe tbody tr th:only-of-type {\n",
       "        vertical-align: middle;\n",
       "    }\n",
       "\n",
       "    .dataframe tbody tr th {\n",
       "        vertical-align: top;\n",
       "    }\n",
       "\n",
       "    .dataframe thead th {\n",
       "        text-align: right;\n",
       "    }\n",
       "</style>\n",
       "<table border=\"1\" class=\"dataframe\">\n",
       "  <thead>\n",
       "    <tr style=\"text-align: right;\">\n",
       "      <th></th>\n",
       "      <th>Anime name</th>\n",
       "      <th>Similarity</th>\n",
       "      <th>Type</th>\n",
       "      <th>Rating</th>\n",
       "    </tr>\n",
       "  </thead>\n",
       "  <tbody>\n",
       "    <tr>\n",
       "      <th>7</th>\n",
       "      <td>Monster</td>\n",
       "      <td>0.291949</td>\n",
       "      <td>TV</td>\n",
       "      <td>8.72</td>\n",
       "    </tr>\n",
       "    <tr>\n",
       "      <th>1</th>\n",
       "      <td>Higurashi no Naku Koro ni Kai</td>\n",
       "      <td>0.468286</td>\n",
       "      <td>TV</td>\n",
       "      <td>8.41</td>\n",
       "    </tr>\n",
       "    <tr>\n",
       "      <th>2</th>\n",
       "      <td>Higurashi no Naku Koro ni</td>\n",
       "      <td>0.395048</td>\n",
       "      <td>TV</td>\n",
       "      <td>8.17</td>\n",
       "    </tr>\n",
       "    <tr>\n",
       "      <th>8</th>\n",
       "      <td>Jigoku Shoujo Mitsuganae</td>\n",
       "      <td>0.278119</td>\n",
       "      <td>TV</td>\n",
       "      <td>7.81</td>\n",
       "    </tr>\n",
       "    <tr>\n",
       "      <th>0</th>\n",
       "      <td>Mousou Dairinin</td>\n",
       "      <td>0.879472</td>\n",
       "      <td>TV</td>\n",
       "      <td>7.74</td>\n",
       "    </tr>\n",
       "    <tr>\n",
       "      <th>4</th>\n",
       "      <td>Shigofumi</td>\n",
       "      <td>0.350125</td>\n",
       "      <td>TV</td>\n",
       "      <td>7.62</td>\n",
       "    </tr>\n",
       "    <tr>\n",
       "      <th>3</th>\n",
       "      <td>Higurashi no Naku Koro ni Rei</td>\n",
       "      <td>0.380282</td>\n",
       "      <td>OVA</td>\n",
       "      <td>7.56</td>\n",
       "    </tr>\n",
       "    <tr>\n",
       "      <th>5</th>\n",
       "      <td>Himitsu: The Revelation</td>\n",
       "      <td>0.323786</td>\n",
       "      <td>TV</td>\n",
       "      <td>7.42</td>\n",
       "    </tr>\n",
       "    <tr>\n",
       "      <th>6</th>\n",
       "      <td>Hikari to Mizu no Daphne</td>\n",
       "      <td>0.291976</td>\n",
       "      <td>TV</td>\n",
       "      <td>6.87</td>\n",
       "    </tr>\n",
       "    <tr>\n",
       "      <th>9</th>\n",
       "      <td>Saint Luminous Jogakuin</td>\n",
       "      <td>0.278119</td>\n",
       "      <td>TV</td>\n",
       "      <td>6.17</td>\n",
       "    </tr>\n",
       "  </tbody>\n",
       "</table>\n",
       "</div>"
      ],
      "text/plain": [
       "                      Anime name  Similarity Type  Rating\n",
       "7                        Monster    0.291949   TV    8.72\n",
       "1  Higurashi no Naku Koro ni Kai    0.468286   TV    8.41\n",
       "2      Higurashi no Naku Koro ni    0.395048   TV    8.17\n",
       "8       Jigoku Shoujo Mitsuganae    0.278119   TV    7.81\n",
       "0                Mousou Dairinin    0.879472   TV    7.74\n",
       "4                      Shigofumi    0.350125   TV    7.62\n",
       "3  Higurashi no Naku Koro ni Rei    0.380282  OVA    7.56\n",
       "5        Himitsu: The Revelation    0.323786   TV    7.42\n",
       "6       Hikari to Mizu no Daphne    0.291976   TV    6.87\n",
       "9        Saint Luminous Jogakuin    0.278119   TV    6.17"
      ]
     },
     "execution_count": 8,
     "metadata": {},
     "output_type": "execute_result"
    }
   ],
   "source": [
    "get_recommendations('Death Note', highest_rating=True, similarity=True)"
   ]
  },
  {
   "cell_type": "code",
   "execution_count": 9,
   "metadata": {},
   "outputs": [
    {
     "data": {
      "text/html": [
       "<div>\n",
       "<style scoped>\n",
       "    .dataframe tbody tr th:only-of-type {\n",
       "        vertical-align: middle;\n",
       "    }\n",
       "\n",
       "    .dataframe tbody tr th {\n",
       "        vertical-align: top;\n",
       "    }\n",
       "\n",
       "    .dataframe thead th {\n",
       "        text-align: right;\n",
       "    }\n",
       "</style>\n",
       "<table border=\"1\" class=\"dataframe\">\n",
       "  <thead>\n",
       "    <tr style=\"text-align: right;\">\n",
       "      <th></th>\n",
       "      <th>Anime name</th>\n",
       "      <th>Similarity</th>\n",
       "      <th>Type</th>\n",
       "      <th>Rating</th>\n",
       "    </tr>\n",
       "  </thead>\n",
       "  <tbody>\n",
       "    <tr>\n",
       "      <th>1</th>\n",
       "      <td>Kimi ni Todoke</td>\n",
       "      <td>0.812700</td>\n",
       "      <td>TV</td>\n",
       "      <td>8.19</td>\n",
       "    </tr>\n",
       "    <tr>\n",
       "      <th>2</th>\n",
       "      <td>Kimi ni Todoke 2nd Season</td>\n",
       "      <td>0.812700</td>\n",
       "      <td>TV</td>\n",
       "      <td>8.17</td>\n",
       "    </tr>\n",
       "    <tr>\n",
       "      <th>9</th>\n",
       "      <td>Hana yori Dango</td>\n",
       "      <td>0.608665</td>\n",
       "      <td>TV</td>\n",
       "      <td>7.90</td>\n",
       "    </tr>\n",
       "    <tr>\n",
       "      <th>4</th>\n",
       "      <td>Tonari no Kaibutsu-kun</td>\n",
       "      <td>0.726015</td>\n",
       "      <td>TV</td>\n",
       "      <td>7.77</td>\n",
       "    </tr>\n",
       "    <tr>\n",
       "      <th>3</th>\n",
       "      <td>Ao Haru Ride OVA</td>\n",
       "      <td>0.812700</td>\n",
       "      <td>OVA</td>\n",
       "      <td>7.76</td>\n",
       "    </tr>\n",
       "    <tr>\n",
       "      <th>0</th>\n",
       "      <td>Kareshi Kanojo no Jijou</td>\n",
       "      <td>1.000000</td>\n",
       "      <td>TV</td>\n",
       "      <td>7.66</td>\n",
       "    </tr>\n",
       "    <tr>\n",
       "      <th>5</th>\n",
       "      <td>Nijiiro Days</td>\n",
       "      <td>0.726015</td>\n",
       "      <td>TV</td>\n",
       "      <td>7.52</td>\n",
       "    </tr>\n",
       "    <tr>\n",
       "      <th>6</th>\n",
       "      <td>Nijiiro Days OVA</td>\n",
       "      <td>0.726015</td>\n",
       "      <td>OVA</td>\n",
       "      <td>6.73</td>\n",
       "    </tr>\n",
       "    <tr>\n",
       "      <th>7</th>\n",
       "      <td>Chou Kuse ni Narisou</td>\n",
       "      <td>0.726015</td>\n",
       "      <td>TV</td>\n",
       "      <td>6.59</td>\n",
       "    </tr>\n",
       "    <tr>\n",
       "      <th>8</th>\n",
       "      <td>Good Morning Call</td>\n",
       "      <td>0.721166</td>\n",
       "      <td>OVA</td>\n",
       "      <td>6.26</td>\n",
       "    </tr>\n",
       "  </tbody>\n",
       "</table>\n",
       "</div>"
      ],
      "text/plain": [
       "                  Anime name  Similarity Type  Rating\n",
       "1             Kimi ni Todoke    0.812700   TV    8.19\n",
       "2  Kimi ni Todoke 2nd Season    0.812700   TV    8.17\n",
       "9            Hana yori Dango    0.608665   TV    7.90\n",
       "4     Tonari no Kaibutsu-kun    0.726015   TV    7.77\n",
       "3           Ao Haru Ride OVA    0.812700  OVA    7.76\n",
       "0    Kareshi Kanojo no Jijou    1.000000   TV    7.66\n",
       "5               Nijiiro Days    0.726015   TV    7.52\n",
       "6           Nijiiro Days OVA    0.726015  OVA    6.73\n",
       "7       Chou Kuse ni Narisou    0.726015   TV    6.59\n",
       "8          Good Morning Call    0.721166  OVA    6.26"
      ]
     },
     "execution_count": 9,
     "metadata": {},
     "output_type": "execute_result"
    }
   ],
   "source": [
    "get_recommendations('Ao Haru Ride', highest_rating=True, similarity=True)"
   ]
  },
  {
   "cell_type": "code",
   "execution_count": 46,
   "metadata": {},
   "outputs": [],
   "source": [
    "#  Calculating the diversity of the recommendations as proportion of genres in the recommendations that are not\n",
    "#  in the input anime to the total number of genres in the recommendations\n",
    "def calculate_diversity(input_anime, recommended_animes):\n",
    "    input_genres = anime[anime['name'] == input_anime]['genre'].iloc[0].split(',')\n",
    "    recommended_genres = []\n",
    "    # get all the genres of the recommended animes dataframe by splitting the string of genres\n",
    "    for i in range(len(recommended_animes)):\n",
    "        recommended_genres.extend(recommended_animes['genre'].iloc[i].split(','))\n",
    "    recommended_genres = list(set(recommended_genres))\n",
    "    # get the genres that are not in the input anime\n",
    "    genres_not_in_input = [genre for genre in recommended_genres if genre not in input_genres]\n",
    "    # calculate the diversity\n",
    "    diversity = len(genres_not_in_input) / len(recommended_genres)\n",
    "    return diversity"
   ]
  },
  {
   "cell_type": "code",
   "execution_count": 47,
   "metadata": {},
   "outputs": [],
   "source": [
    "# Get recommendation for random 100 anime from anime_list and calculate mean diversity for them\n",
    "def diversity_measure(anime_list):\n",
    "    diversity_list = []\n",
    "    anime_samples = np.random.choice(anime_list, 100)\n",
    "    for sample in anime_samples:\n",
    "        recommended_animes = get_recommendations(sample, highest_rating=True)\n",
    "        recommended_animes = anime[anime[\"name\"].isin(recommended_animes[\"Anime name\"])]\n",
    "        diversity = calculate_diversity(sample, recommended_animes)\n",
    "        diversity_list.append(diversity)\n",
    "    return np.mean(diversity_list)"
   ]
  },
  {
   "cell_type": "code",
   "execution_count": 48,
   "metadata": {},
   "outputs": [
    {
     "data": {
      "text/plain": [
       "0.24457124819624818"
      ]
     },
     "execution_count": 48,
     "metadata": {},
     "output_type": "execute_result"
    }
   ],
   "source": [
    "anime_list = anime['name'].unique()\n",
    "diversity_measure(anime_list)"
   ]
  },
  {
   "attachments": {},
   "cell_type": "markdown",
   "metadata": {},
   "source": [
    "* According to our random selected anime recommendations on average %24 of the genres in recommendations are different than the given anime's genres."
   ]
  },
  {
   "cell_type": "code",
   "execution_count": 49,
   "metadata": {},
   "outputs": [],
   "source": [
    "def similarity_measure(anime_list):\n",
    "    similarity_list = []\n",
    "    anime_samples = np.random.choice(anime_list, 100)\n",
    "    for sample in anime_samples:\n",
    "        recommended_animes = get_recommendations(sample, similarity=True)\n",
    "        similarity_list.extend(recommended_animes['Similarity'].values)\n",
    "    return np.mean(similarity_list)"
   ]
  },
  {
   "cell_type": "code",
   "execution_count": 50,
   "metadata": {},
   "outputs": [
    {
     "data": {
      "text/plain": [
       "0.8451822352478996"
      ]
     },
     "execution_count": 50,
     "metadata": {},
     "output_type": "execute_result"
    }
   ],
   "source": [
    "similarity_measure(anime_list)"
   ]
  },
  {
   "attachments": {},
   "cell_type": "markdown",
   "metadata": {},
   "source": [
    "Our model is able to recommend similar animes on average with 0.84 similarity score."
   ]
  },
  {
   "attachments": {},
   "cell_type": "markdown",
   "metadata": {},
   "source": [
    "* Experimenting with different number of  genres in combinations: We will try to find the best number of genres to use in combinations to get the best recommendations. We will use the same function to get recommendations with different number of genres in combinations."
   ]
  },
  {
   "cell_type": "code",
   "execution_count": 51,
   "metadata": {},
   "outputs": [
    {
     "data": {
      "text/plain": [
       "(9211, 7641)"
      ]
     },
     "execution_count": 51,
     "metadata": {},
     "output_type": "execute_result"
    }
   ],
   "source": [
    "genres_str = anime['genre'].str.split(',').astype(str)\n",
    "\n",
    "tfidf = TfidfVectorizer(analyzer='word', ngram_range=(1, 5), min_df=0)\n",
    "tfidf_matrix = tfidf.fit_transform(genres_str)\n",
    "\n",
    "tfidf_matrix.shape"
   ]
  },
  {
   "cell_type": "code",
   "execution_count": 52,
   "metadata": {},
   "outputs": [],
   "source": [
    "cosine_sim = linear_kernel(tfidf_matrix, tfidf_matrix)"
   ]
  },
  {
   "attachments": {},
   "cell_type": "markdown",
   "metadata": {},
   "source": [
    "* As we have manipulated the similarity matrix recommendations will be different than the previous ones. Here are some examples of the recommendations:"
   ]
  },
  {
   "cell_type": "code",
   "execution_count": 53,
   "metadata": {},
   "outputs": [
    {
     "data": {
      "text/html": [
       "<div>\n",
       "<style scoped>\n",
       "    .dataframe tbody tr th:only-of-type {\n",
       "        vertical-align: middle;\n",
       "    }\n",
       "\n",
       "    .dataframe tbody tr th {\n",
       "        vertical-align: top;\n",
       "    }\n",
       "\n",
       "    .dataframe thead th {\n",
       "        text-align: right;\n",
       "    }\n",
       "</style>\n",
       "<table border=\"1\" class=\"dataframe\">\n",
       "  <thead>\n",
       "    <tr style=\"text-align: right;\">\n",
       "      <th></th>\n",
       "      <th>Anime name</th>\n",
       "      <th>Similarity</th>\n",
       "      <th>Type</th>\n",
       "      <th>Rating</th>\n",
       "    </tr>\n",
       "  </thead>\n",
       "  <tbody>\n",
       "    <tr>\n",
       "      <th>8</th>\n",
       "      <td>Monster</td>\n",
       "      <td>0.248040</td>\n",
       "      <td>TV</td>\n",
       "      <td>8.72</td>\n",
       "    </tr>\n",
       "    <tr>\n",
       "      <th>1</th>\n",
       "      <td>Higurashi no Naku Koro ni Kai</td>\n",
       "      <td>0.442209</td>\n",
       "      <td>TV</td>\n",
       "      <td>8.41</td>\n",
       "    </tr>\n",
       "    <tr>\n",
       "      <th>2</th>\n",
       "      <td>Higurashi no Naku Koro ni</td>\n",
       "      <td>0.347385</td>\n",
       "      <td>TV</td>\n",
       "      <td>8.17</td>\n",
       "    </tr>\n",
       "    <tr>\n",
       "      <th>6</th>\n",
       "      <td>Jigoku Shoujo Mitsuganae</td>\n",
       "      <td>0.262632</td>\n",
       "      <td>TV</td>\n",
       "      <td>7.81</td>\n",
       "    </tr>\n",
       "    <tr>\n",
       "      <th>0</th>\n",
       "      <td>Mousou Dairinin</td>\n",
       "      <td>0.851449</td>\n",
       "      <td>TV</td>\n",
       "      <td>7.74</td>\n",
       "    </tr>\n",
       "    <tr>\n",
       "      <th>4</th>\n",
       "      <td>Shigofumi</td>\n",
       "      <td>0.309810</td>\n",
       "      <td>TV</td>\n",
       "      <td>7.62</td>\n",
       "    </tr>\n",
       "    <tr>\n",
       "      <th>3</th>\n",
       "      <td>Higurashi no Naku Koro ni Rei</td>\n",
       "      <td>0.336042</td>\n",
       "      <td>OVA</td>\n",
       "      <td>7.56</td>\n",
       "    </tr>\n",
       "    <tr>\n",
       "      <th>5</th>\n",
       "      <td>Himitsu: The Revelation</td>\n",
       "      <td>0.274608</td>\n",
       "      <td>TV</td>\n",
       "      <td>7.42</td>\n",
       "    </tr>\n",
       "    <tr>\n",
       "      <th>9</th>\n",
       "      <td>Hikari to Mizu no Daphne</td>\n",
       "      <td>0.241836</td>\n",
       "      <td>TV</td>\n",
       "      <td>6.87</td>\n",
       "    </tr>\n",
       "    <tr>\n",
       "      <th>7</th>\n",
       "      <td>Saint Luminous Jogakuin</td>\n",
       "      <td>0.262632</td>\n",
       "      <td>TV</td>\n",
       "      <td>6.17</td>\n",
       "    </tr>\n",
       "  </tbody>\n",
       "</table>\n",
       "</div>"
      ],
      "text/plain": [
       "                      Anime name  Similarity Type  Rating\n",
       "8                        Monster    0.248040   TV    8.72\n",
       "1  Higurashi no Naku Koro ni Kai    0.442209   TV    8.41\n",
       "2      Higurashi no Naku Koro ni    0.347385   TV    8.17\n",
       "6       Jigoku Shoujo Mitsuganae    0.262632   TV    7.81\n",
       "0                Mousou Dairinin    0.851449   TV    7.74\n",
       "4                      Shigofumi    0.309810   TV    7.62\n",
       "3  Higurashi no Naku Koro ni Rei    0.336042  OVA    7.56\n",
       "5        Himitsu: The Revelation    0.274608   TV    7.42\n",
       "9       Hikari to Mizu no Daphne    0.241836   TV    6.87\n",
       "7        Saint Luminous Jogakuin    0.262632   TV    6.17"
      ]
     },
     "execution_count": 53,
     "metadata": {},
     "output_type": "execute_result"
    }
   ],
   "source": [
    "get_recommendations('Death Note', highest_rating=True, similarity=True)"
   ]
  },
  {
   "attachments": {},
   "cell_type": "markdown",
   "metadata": {},
   "source": [
    "We should notice that similarity values dropped because of the increase in the number of genres in combinations."
   ]
  },
  {
   "cell_type": "code",
   "execution_count": 58,
   "metadata": {},
   "outputs": [
    {
     "data": {
      "text/plain": [
       "0.26033789576436633"
      ]
     },
     "execution_count": 58,
     "metadata": {},
     "output_type": "execute_result"
    }
   ],
   "source": [
    "diversity_measure(anime_list)"
   ]
  },
  {
   "cell_type": "code",
   "execution_count": 59,
   "metadata": {},
   "outputs": [
    {
     "data": {
      "text/plain": [
       "0.7654213416794704"
      ]
     },
     "execution_count": 59,
     "metadata": {},
     "output_type": "execute_result"
    }
   ],
   "source": [
    "similarity_measure(anime_list)"
   ]
  },
  {
   "cell_type": "code",
   "execution_count": 62,
   "metadata": {},
   "outputs": [
    {
     "data": {
      "text/plain": [
       "(9211, 2506)"
      ]
     },
     "execution_count": 62,
     "metadata": {},
     "output_type": "execute_result"
    }
   ],
   "source": [
    "genres_str = anime['genre'].str.split(',').astype(str)\n",
    "\n",
    "tfidf = TfidfVectorizer(analyzer='word', ngram_range=(1, 3), min_df=0)\n",
    "tfidf_matrix = tfidf.fit_transform(genres_str)\n",
    "\n",
    "cosine_sim = linear_kernel(tfidf_matrix, tfidf_matrix)\n",
    "\n",
    "tfidf_matrix.shape"
   ]
  },
  {
   "cell_type": "code",
   "execution_count": 63,
   "metadata": {},
   "outputs": [
    {
     "data": {
      "text/html": [
       "<div>\n",
       "<style scoped>\n",
       "    .dataframe tbody tr th:only-of-type {\n",
       "        vertical-align: middle;\n",
       "    }\n",
       "\n",
       "    .dataframe tbody tr th {\n",
       "        vertical-align: top;\n",
       "    }\n",
       "\n",
       "    .dataframe thead th {\n",
       "        text-align: right;\n",
       "    }\n",
       "</style>\n",
       "<table border=\"1\" class=\"dataframe\">\n",
       "  <thead>\n",
       "    <tr style=\"text-align: right;\">\n",
       "      <th></th>\n",
       "      <th>Anime name</th>\n",
       "      <th>Similarity</th>\n",
       "      <th>Type</th>\n",
       "      <th>Rating</th>\n",
       "    </tr>\n",
       "  </thead>\n",
       "  <tbody>\n",
       "    <tr>\n",
       "      <th>7</th>\n",
       "      <td>Monster</td>\n",
       "      <td>0.405045</td>\n",
       "      <td>TV</td>\n",
       "      <td>8.72</td>\n",
       "    </tr>\n",
       "    <tr>\n",
       "      <th>1</th>\n",
       "      <td>Higurashi no Naku Koro ni Kai</td>\n",
       "      <td>0.596057</td>\n",
       "      <td>TV</td>\n",
       "      <td>8.41</td>\n",
       "    </tr>\n",
       "    <tr>\n",
       "      <th>2</th>\n",
       "      <td>Higurashi no Naku Koro ni</td>\n",
       "      <td>0.519723</td>\n",
       "      <td>TV</td>\n",
       "      <td>8.17</td>\n",
       "    </tr>\n",
       "    <tr>\n",
       "      <th>9</th>\n",
       "      <td>Jigoku Shoujo Mitsuganae</td>\n",
       "      <td>0.319620</td>\n",
       "      <td>TV</td>\n",
       "      <td>7.81</td>\n",
       "    </tr>\n",
       "    <tr>\n",
       "      <th>0</th>\n",
       "      <td>Mousou Dairinin</td>\n",
       "      <td>0.902975</td>\n",
       "      <td>TV</td>\n",
       "      <td>7.74</td>\n",
       "    </tr>\n",
       "    <tr>\n",
       "      <th>4</th>\n",
       "      <td>Shigofumi</td>\n",
       "      <td>0.469696</td>\n",
       "      <td>TV</td>\n",
       "      <td>7.62</td>\n",
       "    </tr>\n",
       "    <tr>\n",
       "      <th>3</th>\n",
       "      <td>Higurashi no Naku Koro ni Rei</td>\n",
       "      <td>0.509364</td>\n",
       "      <td>OVA</td>\n",
       "      <td>7.56</td>\n",
       "    </tr>\n",
       "    <tr>\n",
       "      <th>5</th>\n",
       "      <td>Himitsu: The Revelation</td>\n",
       "      <td>0.451075</td>\n",
       "      <td>TV</td>\n",
       "      <td>7.42</td>\n",
       "    </tr>\n",
       "    <tr>\n",
       "      <th>6</th>\n",
       "      <td>Hikari to Mizu no Daphne</td>\n",
       "      <td>0.413349</td>\n",
       "      <td>TV</td>\n",
       "      <td>6.87</td>\n",
       "    </tr>\n",
       "    <tr>\n",
       "      <th>8</th>\n",
       "      <td>AD Police</td>\n",
       "      <td>0.350012</td>\n",
       "      <td>OVA</td>\n",
       "      <td>6.47</td>\n",
       "    </tr>\n",
       "  </tbody>\n",
       "</table>\n",
       "</div>"
      ],
      "text/plain": [
       "                      Anime name  Similarity Type  Rating\n",
       "7                        Monster    0.405045   TV    8.72\n",
       "1  Higurashi no Naku Koro ni Kai    0.596057   TV    8.41\n",
       "2      Higurashi no Naku Koro ni    0.519723   TV    8.17\n",
       "9       Jigoku Shoujo Mitsuganae    0.319620   TV    7.81\n",
       "0                Mousou Dairinin    0.902975   TV    7.74\n",
       "4                      Shigofumi    0.469696   TV    7.62\n",
       "3  Higurashi no Naku Koro ni Rei    0.509364  OVA    7.56\n",
       "5        Himitsu: The Revelation    0.451075   TV    7.42\n",
       "6       Hikari to Mizu no Daphne    0.413349   TV    6.87\n",
       "8                      AD Police    0.350012  OVA    6.47"
      ]
     },
     "execution_count": 63,
     "metadata": {},
     "output_type": "execute_result"
    }
   ],
   "source": [
    "get_recommendations('Death Note', highest_rating=True, similarity=True)"
   ]
  },
  {
   "attachments": {},
   "cell_type": "markdown",
   "metadata": {},
   "source": [
    "* Due to change in the similarity matrix as we can see recommendation for the same anime differs in the 10th recommendation."
   ]
  },
  {
   "cell_type": "code",
   "execution_count": 64,
   "metadata": {},
   "outputs": [
    {
     "data": {
      "text/plain": [
       "0.8409822947923706"
      ]
     },
     "execution_count": 64,
     "metadata": {},
     "output_type": "execute_result"
    }
   ],
   "source": [
    "similarity_measure(anime_list)"
   ]
  },
  {
   "cell_type": "code",
   "execution_count": 65,
   "metadata": {},
   "outputs": [
    {
     "data": {
      "text/plain": [
       "0.24272091797091794"
      ]
     },
     "execution_count": 65,
     "metadata": {},
     "output_type": "execute_result"
    }
   ],
   "source": [
    "diversity_measure(anime_list)"
   ]
  },
  {
   "attachments": {},
   "cell_type": "markdown",
   "metadata": {},
   "source": [
    "* Similarity score and diversity of the recommendations did not change much, therefore we can continue with 4 genres in combinations."
   ]
  }
 ],
 "metadata": {
  "kernelspec": {
   "display_name": "Python 3",
   "language": "python",
   "name": "python3"
  },
  "language_info": {
   "codemirror_mode": {
    "name": "ipython",
    "version": 3
   },
   "file_extension": ".py",
   "mimetype": "text/x-python",
   "name": "python",
   "nbconvert_exporter": "python",
   "pygments_lexer": "ipython3",
   "version": "3.9.0"
  },
  "orig_nbformat": 4
 },
 "nbformat": 4,
 "nbformat_minor": 2
}
