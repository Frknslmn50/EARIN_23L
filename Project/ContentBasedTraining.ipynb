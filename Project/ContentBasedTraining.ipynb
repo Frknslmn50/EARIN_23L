{
 "cells": [
  {
   "attachments": {},
   "cell_type": "markdown",
   "metadata": {},
   "source": [
    "# Training Content Based Filtering Model"
   ]
  },
  {
   "attachments": {},
   "cell_type": "markdown",
   "metadata": {},
   "source": [
    "* Importing the necessary libraries:"
   ]
  },
  {
   "cell_type": "code",
   "execution_count": 1,
   "metadata": {},
   "outputs": [],
   "source": [
    "import pandas as pd\n",
    "import numpy as np\n",
    "from sklearn.feature_extraction.text import TfidfVectorizer\n",
    "from sklearn.metrics.pairwise import linear_kernel"
   ]
  },
  {
   "attachments": {},
   "cell_type": "markdown",
   "metadata": {},
   "source": [
    "* Importing the dataset:"
   ]
  },
  {
   "cell_type": "code",
   "execution_count": 2,
   "metadata": {},
   "outputs": [],
   "source": [
    "anime = pd.read_csv('data/cleaned/anime.csv')\n",
    "rating = pd.read_csv('data/cleaned/rating.csv')"
   ]
  },
  {
   "attachments": {},
   "cell_type": "markdown",
   "metadata": {},
   "source": [
    "* TF-IDF Vectorizer: TF-IDF stands for Term Frequency-Inverse Document Frequency. It is a technique to quantify a word in documents, we generally compute a weight to each word which signifies the importance of the word in the document and corpus. We will use this method to get numeric vectors for each anime, which we can use to find similar contents."
   ]
  },
  {
   "cell_type": "code",
   "execution_count": 3,
   "metadata": {},
   "outputs": [
    {
     "data": {
      "text/plain": [
       "(9211, 5155)"
      ]
     },
     "execution_count": 3,
     "metadata": {},
     "output_type": "execute_result"
    }
   ],
   "source": [
    "genres_str = anime['genre'].str.split(',').astype(str)\n",
    "\n",
    "tfidf = TfidfVectorizer(analyzer='word', ngram_range=(1, 4), min_df=0)\n",
    "tfidf_matrix = tfidf.fit_transform(genres_str)\n",
    "\n",
    "tfidf_matrix.shape"
   ]
  },
  {
   "attachments": {},
   "cell_type": "markdown",
   "metadata": {},
   "source": [
    "We are using the combinations of genre up to 4 elements to get the similarity between the contents. Here are the examples of the combinations:"
   ]
  },
  {
   "cell_type": "code",
   "execution_count": 5,
   "metadata": {},
   "outputs": [
    {
     "data": {
      "text/plain": [
       "array(['action', 'action adventure', 'action adventure cars',\n",
       "       'action adventure cars comedy', 'action adventure cars mecha',\n",
       "       'action adventure cars sci', 'action adventure comedy',\n",
       "       'action adventure comedy demons', 'action adventure comedy drama',\n",
       "       'action adventure comedy ecchi'], dtype=object)"
      ]
     },
     "execution_count": 5,
     "metadata": {},
     "output_type": "execute_result"
    }
   ],
   "source": [
    "tfidf.get_feature_names_out()[:10]"
   ]
  },
  {
   "attachments": {},
   "cell_type": "markdown",
   "metadata": {},
   "source": [
    "* Calculating the cosine similarity between each anime pair:"
   ]
  },
  {
   "cell_type": "code",
   "execution_count": 6,
   "metadata": {},
   "outputs": [],
   "source": [
    "cosine_sim = linear_kernel(tfidf_matrix, tfidf_matrix)"
   ]
  },
  {
   "attachments": {},
   "cell_type": "markdown",
   "metadata": {},
   "source": [
    "* Creating a function to get recommendations: Following function will take the name of the anime and will return the top 10 similar anime recommendations. If highest rating flag is set to True, it will return the top 10 highest rated anime from the similar anime list. If similarity flag is set to True, it will show the similarity score of each anime with the given anime."
   ]
  },
  {
   "cell_type": "code",
   "execution_count": 9,
   "metadata": {},
   "outputs": [],
   "source": [
    "indices = pd.Series(anime.index, index=anime['name'])\n",
    "\n",
    "def get_recommendations(title, highest_rating=False, similarity=False):\n",
    "    idx = indices[title]\n",
    "    sim_scores = list(enumerate(cosine_sim[idx]))\n",
    "    sim_scores = sorted(sim_scores, key=lambda x: x[1], reverse=True)\n",
    "    sim_scores = sim_scores[1:11]\n",
    "\n",
    "    anime_indices = [i[0] for i in sim_scores]\n",
    "\n",
    "    if similarity == False:\n",
    "        \n",
    "        result_df = pd.DataFrame({'Anime name': anime['name'].iloc[anime_indices].values,\n",
    "                                'Type': anime['type'].iloc[anime_indices].values,\n",
    "                                'Rating': anime['rating'].iloc[anime_indices].values})\n",
    "        \n",
    "    elif similarity == True:\n",
    "        similarity_ = [i[1] for i in sim_scores]\n",
    "\n",
    "        result_df = pd.DataFrame({'Anime name': anime['name'].iloc[anime_indices].values,\n",
    "                                'Similarity': similarity_,\n",
    "                                'Type': anime['type'].iloc[anime_indices].values,\n",
    "                                'Rating': anime['rating'].iloc[anime_indices].values})\n",
    "    if highest_rating == True:\n",
    "        return result_df.sort_values('Rating', ascending=False)\n",
    "    else:\n",
    "        return result_df"
   ]
  },
  {
   "attachments": {},
   "cell_type": "markdown",
   "metadata": {},
   "source": [
    "* Here are some examples of the recommendations:"
   ]
  },
  {
   "cell_type": "code",
   "execution_count": 15,
   "metadata": {},
   "outputs": [
    {
     "data": {
      "text/html": [
       "<div>\n",
       "<style scoped>\n",
       "    .dataframe tbody tr th:only-of-type {\n",
       "        vertical-align: middle;\n",
       "    }\n",
       "\n",
       "    .dataframe tbody tr th {\n",
       "        vertical-align: top;\n",
       "    }\n",
       "\n",
       "    .dataframe thead th {\n",
       "        text-align: right;\n",
       "    }\n",
       "</style>\n",
       "<table border=\"1\" class=\"dataframe\">\n",
       "  <thead>\n",
       "    <tr style=\"text-align: right;\">\n",
       "      <th></th>\n",
       "      <th>Anime name</th>\n",
       "      <th>Similarity</th>\n",
       "      <th>Type</th>\n",
       "      <th>Rating</th>\n",
       "    </tr>\n",
       "  </thead>\n",
       "  <tbody>\n",
       "    <tr>\n",
       "      <th>7</th>\n",
       "      <td>Monster</td>\n",
       "      <td>0.291949</td>\n",
       "      <td>TV</td>\n",
       "      <td>8.72</td>\n",
       "    </tr>\n",
       "    <tr>\n",
       "      <th>1</th>\n",
       "      <td>Higurashi no Naku Koro ni Kai</td>\n",
       "      <td>0.468286</td>\n",
       "      <td>TV</td>\n",
       "      <td>8.41</td>\n",
       "    </tr>\n",
       "    <tr>\n",
       "      <th>2</th>\n",
       "      <td>Higurashi no Naku Koro ni</td>\n",
       "      <td>0.395048</td>\n",
       "      <td>TV</td>\n",
       "      <td>8.17</td>\n",
       "    </tr>\n",
       "    <tr>\n",
       "      <th>8</th>\n",
       "      <td>Jigoku Shoujo Mitsuganae</td>\n",
       "      <td>0.278119</td>\n",
       "      <td>TV</td>\n",
       "      <td>7.81</td>\n",
       "    </tr>\n",
       "    <tr>\n",
       "      <th>0</th>\n",
       "      <td>Mousou Dairinin</td>\n",
       "      <td>0.879472</td>\n",
       "      <td>TV</td>\n",
       "      <td>7.74</td>\n",
       "    </tr>\n",
       "    <tr>\n",
       "      <th>4</th>\n",
       "      <td>Shigofumi</td>\n",
       "      <td>0.350125</td>\n",
       "      <td>TV</td>\n",
       "      <td>7.62</td>\n",
       "    </tr>\n",
       "    <tr>\n",
       "      <th>3</th>\n",
       "      <td>Higurashi no Naku Koro ni Rei</td>\n",
       "      <td>0.380282</td>\n",
       "      <td>OVA</td>\n",
       "      <td>7.56</td>\n",
       "    </tr>\n",
       "    <tr>\n",
       "      <th>5</th>\n",
       "      <td>Himitsu: The Revelation</td>\n",
       "      <td>0.323786</td>\n",
       "      <td>TV</td>\n",
       "      <td>7.42</td>\n",
       "    </tr>\n",
       "    <tr>\n",
       "      <th>6</th>\n",
       "      <td>Hikari to Mizu no Daphne</td>\n",
       "      <td>0.291976</td>\n",
       "      <td>TV</td>\n",
       "      <td>6.87</td>\n",
       "    </tr>\n",
       "    <tr>\n",
       "      <th>9</th>\n",
       "      <td>Saint Luminous Jogakuin</td>\n",
       "      <td>0.278119</td>\n",
       "      <td>TV</td>\n",
       "      <td>6.17</td>\n",
       "    </tr>\n",
       "  </tbody>\n",
       "</table>\n",
       "</div>"
      ],
      "text/plain": [
       "                      Anime name  Similarity Type  Rating\n",
       "7                        Monster    0.291949   TV    8.72\n",
       "1  Higurashi no Naku Koro ni Kai    0.468286   TV    8.41\n",
       "2      Higurashi no Naku Koro ni    0.395048   TV    8.17\n",
       "8       Jigoku Shoujo Mitsuganae    0.278119   TV    7.81\n",
       "0                Mousou Dairinin    0.879472   TV    7.74\n",
       "4                      Shigofumi    0.350125   TV    7.62\n",
       "3  Higurashi no Naku Koro ni Rei    0.380282  OVA    7.56\n",
       "5        Himitsu: The Revelation    0.323786   TV    7.42\n",
       "6       Hikari to Mizu no Daphne    0.291976   TV    6.87\n",
       "9        Saint Luminous Jogakuin    0.278119   TV    6.17"
      ]
     },
     "execution_count": 15,
     "metadata": {},
     "output_type": "execute_result"
    }
   ],
   "source": [
    "get_recommendations('Death Note', highest_rating=True, similarity=True)"
   ]
  },
  {
   "cell_type": "code",
   "execution_count": 25,
   "metadata": {},
   "outputs": [
    {
     "data": {
      "text/html": [
       "<div>\n",
       "<style scoped>\n",
       "    .dataframe tbody tr th:only-of-type {\n",
       "        vertical-align: middle;\n",
       "    }\n",
       "\n",
       "    .dataframe tbody tr th {\n",
       "        vertical-align: top;\n",
       "    }\n",
       "\n",
       "    .dataframe thead th {\n",
       "        text-align: right;\n",
       "    }\n",
       "</style>\n",
       "<table border=\"1\" class=\"dataframe\">\n",
       "  <thead>\n",
       "    <tr style=\"text-align: right;\">\n",
       "      <th></th>\n",
       "      <th>Anime name</th>\n",
       "      <th>Similarity</th>\n",
       "      <th>Type</th>\n",
       "      <th>Rating</th>\n",
       "    </tr>\n",
       "  </thead>\n",
       "  <tbody>\n",
       "    <tr>\n",
       "      <th>1</th>\n",
       "      <td>Kimi ni Todoke</td>\n",
       "      <td>0.812700</td>\n",
       "      <td>TV</td>\n",
       "      <td>8.19</td>\n",
       "    </tr>\n",
       "    <tr>\n",
       "      <th>2</th>\n",
       "      <td>Kimi ni Todoke 2nd Season</td>\n",
       "      <td>0.812700</td>\n",
       "      <td>TV</td>\n",
       "      <td>8.17</td>\n",
       "    </tr>\n",
       "    <tr>\n",
       "      <th>9</th>\n",
       "      <td>Hana yori Dango</td>\n",
       "      <td>0.608665</td>\n",
       "      <td>TV</td>\n",
       "      <td>7.90</td>\n",
       "    </tr>\n",
       "    <tr>\n",
       "      <th>4</th>\n",
       "      <td>Tonari no Kaibutsu-kun</td>\n",
       "      <td>0.726015</td>\n",
       "      <td>TV</td>\n",
       "      <td>7.77</td>\n",
       "    </tr>\n",
       "    <tr>\n",
       "      <th>3</th>\n",
       "      <td>Ao Haru Ride OVA</td>\n",
       "      <td>0.812700</td>\n",
       "      <td>OVA</td>\n",
       "      <td>7.76</td>\n",
       "    </tr>\n",
       "    <tr>\n",
       "      <th>0</th>\n",
       "      <td>Kareshi Kanojo no Jijou</td>\n",
       "      <td>1.000000</td>\n",
       "      <td>TV</td>\n",
       "      <td>7.66</td>\n",
       "    </tr>\n",
       "    <tr>\n",
       "      <th>5</th>\n",
       "      <td>Nijiiro Days</td>\n",
       "      <td>0.726015</td>\n",
       "      <td>TV</td>\n",
       "      <td>7.52</td>\n",
       "    </tr>\n",
       "    <tr>\n",
       "      <th>6</th>\n",
       "      <td>Nijiiro Days OVA</td>\n",
       "      <td>0.726015</td>\n",
       "      <td>OVA</td>\n",
       "      <td>6.73</td>\n",
       "    </tr>\n",
       "    <tr>\n",
       "      <th>7</th>\n",
       "      <td>Chou Kuse ni Narisou</td>\n",
       "      <td>0.726015</td>\n",
       "      <td>TV</td>\n",
       "      <td>6.59</td>\n",
       "    </tr>\n",
       "    <tr>\n",
       "      <th>8</th>\n",
       "      <td>Good Morning Call</td>\n",
       "      <td>0.721166</td>\n",
       "      <td>OVA</td>\n",
       "      <td>6.26</td>\n",
       "    </tr>\n",
       "  </tbody>\n",
       "</table>\n",
       "</div>"
      ],
      "text/plain": [
       "                  Anime name  Similarity Type  Rating\n",
       "1             Kimi ni Todoke    0.812700   TV    8.19\n",
       "2  Kimi ni Todoke 2nd Season    0.812700   TV    8.17\n",
       "9            Hana yori Dango    0.608665   TV    7.90\n",
       "4     Tonari no Kaibutsu-kun    0.726015   TV    7.77\n",
       "3           Ao Haru Ride OVA    0.812700  OVA    7.76\n",
       "0    Kareshi Kanojo no Jijou    1.000000   TV    7.66\n",
       "5               Nijiiro Days    0.726015   TV    7.52\n",
       "6           Nijiiro Days OVA    0.726015  OVA    6.73\n",
       "7       Chou Kuse ni Narisou    0.726015   TV    6.59\n",
       "8          Good Morning Call    0.721166  OVA    6.26"
      ]
     },
     "execution_count": 25,
     "metadata": {},
     "output_type": "execute_result"
    }
   ],
   "source": [
    "get_recommendations('Ao Haru Ride', highest_rating=True, similarity=True)"
   ]
  },
  {
   "cell_type": "code",
   "execution_count": null,
   "metadata": {},
   "outputs": [],
   "source": []
  }
 ],
 "metadata": {
  "kernelspec": {
   "display_name": "Python 3",
   "language": "python",
   "name": "python3"
  },
  "language_info": {
   "codemirror_mode": {
    "name": "ipython",
    "version": 3
   },
   "file_extension": ".py",
   "mimetype": "text/x-python",
   "name": "python",
   "nbconvert_exporter": "python",
   "pygments_lexer": "ipython3",
   "version": "3.9.0"
  },
  "orig_nbformat": 4
 },
 "nbformat": 4,
 "nbformat_minor": 2
}
