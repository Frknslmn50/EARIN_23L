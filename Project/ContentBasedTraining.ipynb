{
 "cells": [
  {
   "attachments": {},
   "cell_type": "markdown",
   "metadata": {},
   "source": [
    "# Training Content Based Filtering Model"
   ]
  },
  {
   "attachments": {},
   "cell_type": "markdown",
   "metadata": {},
   "source": [
    "* Importing the necessary libraries:"
   ]
  },
  {
   "cell_type": "code",
   "execution_count": 1,
   "metadata": {},
   "outputs": [],
   "source": [
    "import pandas as pd\n",
    "import numpy as np\n",
    "from sklearn.feature_extraction.text import TfidfVectorizer\n",
    "from sklearn.metrics.pairwise import linear_kernel"
   ]
  },
  {
   "attachments": {},
   "cell_type": "markdown",
   "metadata": {},
   "source": [
    "* Importing the dataset:"
   ]
  },
  {
   "cell_type": "code",
   "execution_count": 2,
   "metadata": {},
   "outputs": [
    {
     "data": {
      "text/html": [
       "<div>\n",
       "<style scoped>\n",
       "    .dataframe tbody tr th:only-of-type {\n",
       "        vertical-align: middle;\n",
       "    }\n",
       "\n",
       "    .dataframe tbody tr th {\n",
       "        vertical-align: top;\n",
       "    }\n",
       "\n",
       "    .dataframe thead th {\n",
       "        text-align: right;\n",
       "    }\n",
       "</style>\n",
       "<table border=\"1\" class=\"dataframe\">\n",
       "  <thead>\n",
       "    <tr style=\"text-align: right;\">\n",
       "      <th></th>\n",
       "      <th>anime_id</th>\n",
       "      <th>name</th>\n",
       "      <th>genre</th>\n",
       "      <th>type</th>\n",
       "      <th>episodes</th>\n",
       "      <th>rating</th>\n",
       "      <th>members</th>\n",
       "    </tr>\n",
       "  </thead>\n",
       "  <tbody>\n",
       "    <tr>\n",
       "      <th>0</th>\n",
       "      <td>32281</td>\n",
       "      <td>Kimi no Na wa.</td>\n",
       "      <td>Drama, Romance, School, Supernatural</td>\n",
       "      <td>Movie</td>\n",
       "      <td>1.0</td>\n",
       "      <td>9.37</td>\n",
       "      <td>200630</td>\n",
       "    </tr>\n",
       "    <tr>\n",
       "      <th>1</th>\n",
       "      <td>5114</td>\n",
       "      <td>Fullmetal Alchemist: Brotherhood</td>\n",
       "      <td>Action, Adventure, Drama, Fantasy, Magic, Mili...</td>\n",
       "      <td>TV</td>\n",
       "      <td>64.0</td>\n",
       "      <td>9.26</td>\n",
       "      <td>793665</td>\n",
       "    </tr>\n",
       "    <tr>\n",
       "      <th>2</th>\n",
       "      <td>28977</td>\n",
       "      <td>Gintama°</td>\n",
       "      <td>Action, Comedy, Historical, Parody, Samurai, S...</td>\n",
       "      <td>TV</td>\n",
       "      <td>51.0</td>\n",
       "      <td>9.25</td>\n",
       "      <td>114262</td>\n",
       "    </tr>\n",
       "    <tr>\n",
       "      <th>3</th>\n",
       "      <td>9253</td>\n",
       "      <td>Steins;Gate</td>\n",
       "      <td>Sci-Fi, Thriller</td>\n",
       "      <td>TV</td>\n",
       "      <td>24.0</td>\n",
       "      <td>9.17</td>\n",
       "      <td>673572</td>\n",
       "    </tr>\n",
       "    <tr>\n",
       "      <th>4</th>\n",
       "      <td>9969</td>\n",
       "      <td>Gintama</td>\n",
       "      <td>Action, Comedy, Historical, Parody, Samurai, S...</td>\n",
       "      <td>TV</td>\n",
       "      <td>51.0</td>\n",
       "      <td>9.16</td>\n",
       "      <td>151266</td>\n",
       "    </tr>\n",
       "  </tbody>\n",
       "</table>\n",
       "</div>"
      ],
      "text/plain": [
       "   anime_id                              name  \\\n",
       "0     32281                    Kimi no Na wa.   \n",
       "1      5114  Fullmetal Alchemist: Brotherhood   \n",
       "2     28977                          Gintama°   \n",
       "3      9253                       Steins;Gate   \n",
       "4      9969                           Gintama   \n",
       "\n",
       "                                               genre   type  episodes  rating  \\\n",
       "0               Drama, Romance, School, Supernatural  Movie       1.0    9.37   \n",
       "1  Action, Adventure, Drama, Fantasy, Magic, Mili...     TV      64.0    9.26   \n",
       "2  Action, Comedy, Historical, Parody, Samurai, S...     TV      51.0    9.25   \n",
       "3                                   Sci-Fi, Thriller     TV      24.0    9.17   \n",
       "4  Action, Comedy, Historical, Parody, Samurai, S...     TV      51.0    9.16   \n",
       "\n",
       "   members  \n",
       "0   200630  \n",
       "1   793665  \n",
       "2   114262  \n",
       "3   673572  \n",
       "4   151266  "
      ]
     },
     "execution_count": 2,
     "metadata": {},
     "output_type": "execute_result"
    }
   ],
   "source": [
    "anime = pd.read_csv('data/cleaned/anime.csv')\n",
    "anime.head()"
   ]
  },
  {
   "attachments": {},
   "cell_type": "markdown",
   "metadata": {},
   "source": [
    "* TF-IDF Vectorizer: TF-IDF stands for Term Frequency-Inverse Document Frequency. It is a technique to quantify a word in documents, we generally compute a weight to each word which signifies the importance of the word in the document and corpus. We will use this method to get numeric vectors for each anime, which we can use to find similar contents."
   ]
  },
  {
   "cell_type": "code",
   "execution_count": 3,
   "metadata": {},
   "outputs": [
    {
     "data": {
      "text/plain": [
       "(9211, 5155)"
      ]
     },
     "execution_count": 3,
     "metadata": {},
     "output_type": "execute_result"
    }
   ],
   "source": [
    "genres_str = anime['genre'].str.split(',').astype(str)\n",
    "\n",
    "tfidf = TfidfVectorizer(analyzer='word', ngram_range=(1, 4), min_df=0)\n",
    "tfidf_matrix = tfidf.fit_transform(genres_str)\n",
    "\n",
    "tfidf_matrix.shape"
   ]
  },
  {
   "attachments": {},
   "cell_type": "markdown",
   "metadata": {},
   "source": [
    "We are using the combinations of genre up to 4 elements to get the similarity between the contents. Here are the examples of the combinations:"
   ]
  },
  {
   "cell_type": "code",
   "execution_count": 4,
   "metadata": {},
   "outputs": [
    {
     "data": {
      "text/plain": [
       "array(['action', 'action adventure', 'action adventure cars',\n",
       "       'action adventure cars comedy', 'action adventure cars mecha',\n",
       "       'action adventure cars sci', 'action adventure comedy',\n",
       "       'action adventure comedy demons', 'action adventure comedy drama',\n",
       "       'action adventure comedy ecchi'], dtype=object)"
      ]
     },
     "execution_count": 4,
     "metadata": {},
     "output_type": "execute_result"
    }
   ],
   "source": [
    "tfidf.get_feature_names_out()[:10]"
   ]
  },
  {
   "attachments": {},
   "cell_type": "markdown",
   "metadata": {},
   "source": [
    "* Calculating the cosine similarity between each anime pair:"
   ]
  },
  {
   "cell_type": "code",
   "execution_count": 5,
   "metadata": {},
   "outputs": [],
   "source": [
    "cosine_sim = linear_kernel(tfidf_matrix, tfidf_matrix)"
   ]
  },
  {
   "cell_type": "code",
   "execution_count": 6,
   "metadata": {},
   "outputs": [],
   "source": [
    "# Save cosine similarity matrix for later use\n",
    "np.save('models/cosine_sim.npy', cosine_sim)"
   ]
  },
  {
   "attachments": {},
   "cell_type": "markdown",
   "metadata": {},
   "source": [
    "* Creating a function to get recommendations: Following function will take the name of the anime and will return the top 10 similar anime recommendations. If highest rating flag is set to True, it will return the top 10 highest rated anime from the similar anime list. If similarity flag is set to True, it will show the similarity score of each anime with the given anime."
   ]
  },
  {
   "cell_type": "code",
   "execution_count": 7,
   "metadata": {},
   "outputs": [],
   "source": [
    "indices = pd.Series(anime.index, index=anime['name'])\n",
    "\n",
    "def get_recommendations(title, n_recommendations=10, highest_rating=False, similarity=False):\n",
    "    idx = indices[title]\n",
    "    sim_scores = list(enumerate(cosine_sim[idx]))\n",
    "    sim_scores = sorted(sim_scores, key=lambda x: x[1], reverse=True)\n",
    "    sim_scores = sim_scores[1:n_recommendations+1]\n",
    "\n",
    "    anime_indices = [i[0] for i in sim_scores]\n",
    "\n",
    "    if similarity == False:\n",
    "        result_df = pd.DataFrame({'Anime': anime['name'].iloc[anime_indices].values,\n",
    "                                  'Type': anime['type'].iloc[anime_indices].values,\n",
    "                                  'Rating': anime['rating'].iloc[anime_indices].values})\n",
    "    elif similarity == True:\n",
    "        similarity_ = [(i[1] + 1) / 2 for i in sim_scores]\n",
    "        result_df = pd.DataFrame({'Anime': anime['name'].iloc[anime_indices].values,\n",
    "                                  'Similarity': similarity_,\n",
    "                                  'Type': anime['type'].iloc[anime_indices].values,\n",
    "                                  'Rating': anime['rating'].iloc[anime_indices].values})\n",
    "    if highest_rating == True:\n",
    "        return result_df.sort_values('Rating', ascending=False)\n",
    "    else:\n",
    "        return result_df"
   ]
  },
  {
   "attachments": {},
   "cell_type": "markdown",
   "metadata": {},
   "source": [
    "* Here are some examples of the recommendations:"
   ]
  },
  {
   "cell_type": "code",
   "execution_count": 24,
   "metadata": {},
   "outputs": [
    {
     "data": {
      "text/html": [
       "<div>\n",
       "<style scoped>\n",
       "    .dataframe tbody tr th:only-of-type {\n",
       "        vertical-align: middle;\n",
       "    }\n",
       "\n",
       "    .dataframe tbody tr th {\n",
       "        vertical-align: top;\n",
       "    }\n",
       "\n",
       "    .dataframe thead th {\n",
       "        text-align: right;\n",
       "    }\n",
       "</style>\n",
       "<table border=\"1\" class=\"dataframe\">\n",
       "  <thead>\n",
       "    <tr style=\"text-align: right;\">\n",
       "      <th></th>\n",
       "      <th>Anime</th>\n",
       "      <th>Similarity</th>\n",
       "      <th>Type</th>\n",
       "      <th>Rating</th>\n",
       "    </tr>\n",
       "  </thead>\n",
       "  <tbody>\n",
       "    <tr>\n",
       "      <th>0</th>\n",
       "      <td>Mousou Dairinin</td>\n",
       "      <td>0.951487</td>\n",
       "      <td>TV</td>\n",
       "      <td>7.74</td>\n",
       "    </tr>\n",
       "    <tr>\n",
       "      <th>1</th>\n",
       "      <td>Higurashi no Naku Koro ni Kai</td>\n",
       "      <td>0.798029</td>\n",
       "      <td>TV</td>\n",
       "      <td>8.41</td>\n",
       "    </tr>\n",
       "    <tr>\n",
       "      <th>2</th>\n",
       "      <td>Higurashi no Naku Koro ni</td>\n",
       "      <td>0.759862</td>\n",
       "      <td>TV</td>\n",
       "      <td>8.17</td>\n",
       "    </tr>\n",
       "    <tr>\n",
       "      <th>3</th>\n",
       "      <td>Higurashi no Naku Koro ni Rei</td>\n",
       "      <td>0.754682</td>\n",
       "      <td>OVA</td>\n",
       "      <td>7.56</td>\n",
       "    </tr>\n",
       "    <tr>\n",
       "      <th>4</th>\n",
       "      <td>Shigofumi</td>\n",
       "      <td>0.734848</td>\n",
       "      <td>TV</td>\n",
       "      <td>7.62</td>\n",
       "    </tr>\n",
       "    <tr>\n",
       "      <th>5</th>\n",
       "      <td>Himitsu: The Revelation</td>\n",
       "      <td>0.725537</td>\n",
       "      <td>TV</td>\n",
       "      <td>7.42</td>\n",
       "    </tr>\n",
       "    <tr>\n",
       "      <th>6</th>\n",
       "      <td>Hikari to Mizu no Daphne</td>\n",
       "      <td>0.706674</td>\n",
       "      <td>TV</td>\n",
       "      <td>6.87</td>\n",
       "    </tr>\n",
       "    <tr>\n",
       "      <th>7</th>\n",
       "      <td>Monster</td>\n",
       "      <td>0.702523</td>\n",
       "      <td>TV</td>\n",
       "      <td>8.72</td>\n",
       "    </tr>\n",
       "    <tr>\n",
       "      <th>8</th>\n",
       "      <td>AD Police</td>\n",
       "      <td>0.675006</td>\n",
       "      <td>OVA</td>\n",
       "      <td>6.47</td>\n",
       "    </tr>\n",
       "    <tr>\n",
       "      <th>9</th>\n",
       "      <td>Jigoku Shoujo Mitsuganae</td>\n",
       "      <td>0.659810</td>\n",
       "      <td>TV</td>\n",
       "      <td>7.81</td>\n",
       "    </tr>\n",
       "  </tbody>\n",
       "</table>\n",
       "</div>"
      ],
      "text/plain": [
       "                           Anime  Similarity Type  Rating\n",
       "0                Mousou Dairinin    0.951487   TV    7.74\n",
       "1  Higurashi no Naku Koro ni Kai    0.798029   TV    8.41\n",
       "2      Higurashi no Naku Koro ni    0.759862   TV    8.17\n",
       "3  Higurashi no Naku Koro ni Rei    0.754682  OVA    7.56\n",
       "4                      Shigofumi    0.734848   TV    7.62\n",
       "5        Himitsu: The Revelation    0.725537   TV    7.42\n",
       "6       Hikari to Mizu no Daphne    0.706674   TV    6.87\n",
       "7                        Monster    0.702523   TV    8.72\n",
       "8                      AD Police    0.675006  OVA    6.47\n",
       "9       Jigoku Shoujo Mitsuganae    0.659810   TV    7.81"
      ]
     },
     "execution_count": 24,
     "metadata": {},
     "output_type": "execute_result"
    }
   ],
   "source": [
    "get_recommendations('Death Note', highest_rating=False, similarity=True)"
   ]
  },
  {
   "cell_type": "code",
   "execution_count": 9,
   "metadata": {},
   "outputs": [
    {
     "data": {
      "text/html": [
       "<div>\n",
       "<style scoped>\n",
       "    .dataframe tbody tr th:only-of-type {\n",
       "        vertical-align: middle;\n",
       "    }\n",
       "\n",
       "    .dataframe tbody tr th {\n",
       "        vertical-align: top;\n",
       "    }\n",
       "\n",
       "    .dataframe thead th {\n",
       "        text-align: right;\n",
       "    }\n",
       "</style>\n",
       "<table border=\"1\" class=\"dataframe\">\n",
       "  <thead>\n",
       "    <tr style=\"text-align: right;\">\n",
       "      <th></th>\n",
       "      <th>Anime</th>\n",
       "      <th>Similarity</th>\n",
       "      <th>Type</th>\n",
       "      <th>Rating</th>\n",
       "    </tr>\n",
       "  </thead>\n",
       "  <tbody>\n",
       "    <tr>\n",
       "      <th>1</th>\n",
       "      <td>Kimi ni Todoke</td>\n",
       "      <td>0.906350</td>\n",
       "      <td>TV</td>\n",
       "      <td>8.19</td>\n",
       "    </tr>\n",
       "    <tr>\n",
       "      <th>2</th>\n",
       "      <td>Kimi ni Todoke 2nd Season</td>\n",
       "      <td>0.906350</td>\n",
       "      <td>TV</td>\n",
       "      <td>8.17</td>\n",
       "    </tr>\n",
       "    <tr>\n",
       "      <th>9</th>\n",
       "      <td>Hana yori Dango</td>\n",
       "      <td>0.804333</td>\n",
       "      <td>TV</td>\n",
       "      <td>7.90</td>\n",
       "    </tr>\n",
       "    <tr>\n",
       "      <th>4</th>\n",
       "      <td>Tonari no Kaibutsu-kun</td>\n",
       "      <td>0.863007</td>\n",
       "      <td>TV</td>\n",
       "      <td>7.77</td>\n",
       "    </tr>\n",
       "    <tr>\n",
       "      <th>3</th>\n",
       "      <td>Ao Haru Ride OVA</td>\n",
       "      <td>0.906350</td>\n",
       "      <td>OVA</td>\n",
       "      <td>7.76</td>\n",
       "    </tr>\n",
       "    <tr>\n",
       "      <th>0</th>\n",
       "      <td>Kareshi Kanojo no Jijou</td>\n",
       "      <td>1.000000</td>\n",
       "      <td>TV</td>\n",
       "      <td>7.66</td>\n",
       "    </tr>\n",
       "    <tr>\n",
       "      <th>5</th>\n",
       "      <td>Nijiiro Days</td>\n",
       "      <td>0.863007</td>\n",
       "      <td>TV</td>\n",
       "      <td>7.52</td>\n",
       "    </tr>\n",
       "    <tr>\n",
       "      <th>6</th>\n",
       "      <td>Nijiiro Days OVA</td>\n",
       "      <td>0.863007</td>\n",
       "      <td>OVA</td>\n",
       "      <td>6.73</td>\n",
       "    </tr>\n",
       "    <tr>\n",
       "      <th>7</th>\n",
       "      <td>Chou Kuse ni Narisou</td>\n",
       "      <td>0.863007</td>\n",
       "      <td>TV</td>\n",
       "      <td>6.59</td>\n",
       "    </tr>\n",
       "    <tr>\n",
       "      <th>8</th>\n",
       "      <td>Good Morning Call</td>\n",
       "      <td>0.860583</td>\n",
       "      <td>OVA</td>\n",
       "      <td>6.26</td>\n",
       "    </tr>\n",
       "  </tbody>\n",
       "</table>\n",
       "</div>"
      ],
      "text/plain": [
       "                       Anime  Similarity Type  Rating\n",
       "1             Kimi ni Todoke    0.906350   TV    8.19\n",
       "2  Kimi ni Todoke 2nd Season    0.906350   TV    8.17\n",
       "9            Hana yori Dango    0.804333   TV    7.90\n",
       "4     Tonari no Kaibutsu-kun    0.863007   TV    7.77\n",
       "3           Ao Haru Ride OVA    0.906350  OVA    7.76\n",
       "0    Kareshi Kanojo no Jijou    1.000000   TV    7.66\n",
       "5               Nijiiro Days    0.863007   TV    7.52\n",
       "6           Nijiiro Days OVA    0.863007  OVA    6.73\n",
       "7       Chou Kuse ni Narisou    0.863007   TV    6.59\n",
       "8          Good Morning Call    0.860583  OVA    6.26"
      ]
     },
     "execution_count": 9,
     "metadata": {},
     "output_type": "execute_result"
    }
   ],
   "source": [
    "get_recommendations('Ao Haru Ride', highest_rating=True, similarity=True)"
   ]
  },
  {
   "cell_type": "code",
   "execution_count": 10,
   "metadata": {},
   "outputs": [],
   "source": [
    "#  Calculating the diversity of the recommendations as proportion of genres in the recommendations that are not\n",
    "#  in the input anime to the total number of genres in the recommendations\n",
    "def calculate_diversity(input_anime, recommended_animes):\n",
    "    input_genres = anime[anime['name'] == input_anime]['genre'].iloc[0].split(',')\n",
    "    recommended_genres = []\n",
    "    # get all the genres of the recommended animes dataframe by splitting the string of genres\n",
    "    for i in range(len(recommended_animes)):\n",
    "        recommended_genres.extend(recommended_animes['genre'].iloc[i].split(','))\n",
    "    recommended_genres = list(set(recommended_genres))\n",
    "    # get the genres that are not in the input anime\n",
    "    genres_not_in_input = [genre for genre in recommended_genres if genre not in input_genres]\n",
    "    # calculate the diversity\n",
    "    diversity = len(genres_not_in_input) / len(recommended_genres)\n",
    "    return diversity"
   ]
  },
  {
   "cell_type": "code",
   "execution_count": 11,
   "metadata": {},
   "outputs": [],
   "source": [
    "# Get recommendation for random 100 anime from anime_list and calculate mean diversity for them\n",
    "def diversity_measure(anime_list):\n",
    "    diversity_list = []\n",
    "    anime_samples = np.random.choice(anime_list, 100)\n",
    "    for sample in anime_samples:\n",
    "        recommended_animes = get_recommendations(sample, highest_rating=True)\n",
    "        recommended_animes = anime[anime[\"name\"].isin(recommended_animes[\"Anime\"])]\n",
    "        diversity = calculate_diversity(sample, recommended_animes)\n",
    "        diversity_list.append(diversity)\n",
    "    return np.mean(diversity_list)"
   ]
  },
  {
   "cell_type": "code",
   "execution_count": 12,
   "metadata": {},
   "outputs": [
    {
     "data": {
      "text/plain": [
       "0.26190617715617714"
      ]
     },
     "execution_count": 12,
     "metadata": {},
     "output_type": "execute_result"
    }
   ],
   "source": [
    "anime_list = anime['name'].unique()\n",
    "diversity_measure(anime_list)"
   ]
  },
  {
   "attachments": {},
   "cell_type": "markdown",
   "metadata": {},
   "source": [
    "* According to our random selected anime recommendations on average %26 of the genres in recommendations are different than the given anime's genres."
   ]
  },
  {
   "cell_type": "code",
   "execution_count": 13,
   "metadata": {},
   "outputs": [],
   "source": [
    "def similarity_measure(anime_list,seed=0):\n",
    "    np.random.seed(seed)\n",
    "    similarity_list = []\n",
    "    anime_samples = np.random.choice(anime_list, 100)\n",
    "    for sample in anime_samples:\n",
    "        recommended_animes = get_recommendations(sample, similarity=True)\n",
    "        similarity_list.extend(recommended_animes['Similarity'].values)\n",
    "    return np.mean(similarity_list)"
   ]
  },
  {
   "cell_type": "code",
   "execution_count": 14,
   "metadata": {},
   "outputs": [
    {
     "data": {
      "text/plain": [
       "0.9103313818076428"
      ]
     },
     "execution_count": 14,
     "metadata": {},
     "output_type": "execute_result"
    }
   ],
   "source": [
    "similarity_measure(anime_list)"
   ]
  },
  {
   "attachments": {},
   "cell_type": "markdown",
   "metadata": {},
   "source": [
    "Our model is able to recommend similar animes on average with 0.92 similarity score."
   ]
  },
  {
   "attachments": {},
   "cell_type": "markdown",
   "metadata": {},
   "source": [
    "* Experimenting with different number of  genres in combinations: We will try to find the best number of genres to use in combinations to get the best recommendations. We will use the same function to get recommendations with different number of genres in combinations."
   ]
  },
  {
   "attachments": {},
   "cell_type": "markdown",
   "metadata": {},
   "source": [
    "* Using 5 genres in combinations:"
   ]
  },
  {
   "cell_type": "code",
   "execution_count": 15,
   "metadata": {},
   "outputs": [
    {
     "data": {
      "text/plain": [
       "(9211, 7641)"
      ]
     },
     "execution_count": 15,
     "metadata": {},
     "output_type": "execute_result"
    }
   ],
   "source": [
    "genres_str = anime['genre'].str.split(',').astype(str)\n",
    "\n",
    "tfidf = TfidfVectorizer(analyzer='word', ngram_range=(1, 5), min_df=0)\n",
    "tfidf_matrix = tfidf.fit_transform(genres_str)\n",
    "\n",
    "tfidf_matrix.shape"
   ]
  },
  {
   "cell_type": "code",
   "execution_count": 16,
   "metadata": {},
   "outputs": [],
   "source": [
    "cosine_sim = linear_kernel(tfidf_matrix, tfidf_matrix)"
   ]
  },
  {
   "attachments": {},
   "cell_type": "markdown",
   "metadata": {},
   "source": [
    "* As we have manipulated the similarity matrix recommendations will be different than the previous ones. Here are some examples of the recommendations:"
   ]
  },
  {
   "cell_type": "code",
   "execution_count": 25,
   "metadata": {},
   "outputs": [
    {
     "data": {
      "text/html": [
       "<div>\n",
       "<style scoped>\n",
       "    .dataframe tbody tr th:only-of-type {\n",
       "        vertical-align: middle;\n",
       "    }\n",
       "\n",
       "    .dataframe tbody tr th {\n",
       "        vertical-align: top;\n",
       "    }\n",
       "\n",
       "    .dataframe thead th {\n",
       "        text-align: right;\n",
       "    }\n",
       "</style>\n",
       "<table border=\"1\" class=\"dataframe\">\n",
       "  <thead>\n",
       "    <tr style=\"text-align: right;\">\n",
       "      <th></th>\n",
       "      <th>Anime</th>\n",
       "      <th>Similarity</th>\n",
       "      <th>Type</th>\n",
       "      <th>Rating</th>\n",
       "    </tr>\n",
       "  </thead>\n",
       "  <tbody>\n",
       "    <tr>\n",
       "      <th>0</th>\n",
       "      <td>Mousou Dairinin</td>\n",
       "      <td>0.951487</td>\n",
       "      <td>TV</td>\n",
       "      <td>7.74</td>\n",
       "    </tr>\n",
       "    <tr>\n",
       "      <th>1</th>\n",
       "      <td>Higurashi no Naku Koro ni Kai</td>\n",
       "      <td>0.798029</td>\n",
       "      <td>TV</td>\n",
       "      <td>8.41</td>\n",
       "    </tr>\n",
       "    <tr>\n",
       "      <th>2</th>\n",
       "      <td>Higurashi no Naku Koro ni</td>\n",
       "      <td>0.759862</td>\n",
       "      <td>TV</td>\n",
       "      <td>8.17</td>\n",
       "    </tr>\n",
       "    <tr>\n",
       "      <th>3</th>\n",
       "      <td>Higurashi no Naku Koro ni Rei</td>\n",
       "      <td>0.754682</td>\n",
       "      <td>OVA</td>\n",
       "      <td>7.56</td>\n",
       "    </tr>\n",
       "    <tr>\n",
       "      <th>4</th>\n",
       "      <td>Shigofumi</td>\n",
       "      <td>0.734848</td>\n",
       "      <td>TV</td>\n",
       "      <td>7.62</td>\n",
       "    </tr>\n",
       "    <tr>\n",
       "      <th>5</th>\n",
       "      <td>Himitsu: The Revelation</td>\n",
       "      <td>0.725537</td>\n",
       "      <td>TV</td>\n",
       "      <td>7.42</td>\n",
       "    </tr>\n",
       "    <tr>\n",
       "      <th>6</th>\n",
       "      <td>Hikari to Mizu no Daphne</td>\n",
       "      <td>0.706674</td>\n",
       "      <td>TV</td>\n",
       "      <td>6.87</td>\n",
       "    </tr>\n",
       "    <tr>\n",
       "      <th>7</th>\n",
       "      <td>Monster</td>\n",
       "      <td>0.702523</td>\n",
       "      <td>TV</td>\n",
       "      <td>8.72</td>\n",
       "    </tr>\n",
       "    <tr>\n",
       "      <th>8</th>\n",
       "      <td>AD Police</td>\n",
       "      <td>0.675006</td>\n",
       "      <td>OVA</td>\n",
       "      <td>6.47</td>\n",
       "    </tr>\n",
       "    <tr>\n",
       "      <th>9</th>\n",
       "      <td>Jigoku Shoujo Mitsuganae</td>\n",
       "      <td>0.659810</td>\n",
       "      <td>TV</td>\n",
       "      <td>7.81</td>\n",
       "    </tr>\n",
       "  </tbody>\n",
       "</table>\n",
       "</div>"
      ],
      "text/plain": [
       "                           Anime  Similarity Type  Rating\n",
       "0                Mousou Dairinin    0.951487   TV    7.74\n",
       "1  Higurashi no Naku Koro ni Kai    0.798029   TV    8.41\n",
       "2      Higurashi no Naku Koro ni    0.759862   TV    8.17\n",
       "3  Higurashi no Naku Koro ni Rei    0.754682  OVA    7.56\n",
       "4                      Shigofumi    0.734848   TV    7.62\n",
       "5        Himitsu: The Revelation    0.725537   TV    7.42\n",
       "6       Hikari to Mizu no Daphne    0.706674   TV    6.87\n",
       "7                        Monster    0.702523   TV    8.72\n",
       "8                      AD Police    0.675006  OVA    6.47\n",
       "9       Jigoku Shoujo Mitsuganae    0.659810   TV    7.81"
      ]
     },
     "execution_count": 25,
     "metadata": {},
     "output_type": "execute_result"
    }
   ],
   "source": [
    "get_recommendations('Death Note', highest_rating=False, similarity=True)"
   ]
  },
  {
   "attachments": {},
   "cell_type": "markdown",
   "metadata": {},
   "source": [
    "We should notice that similarity values dropped because of the increase in the number of genres in combinations."
   ]
  },
  {
   "cell_type": "code",
   "execution_count": 18,
   "metadata": {},
   "outputs": [
    {
     "data": {
      "text/plain": [
       "0.21508044733044734"
      ]
     },
     "execution_count": 18,
     "metadata": {},
     "output_type": "execute_result"
    }
   ],
   "source": [
    "diversity_measure(anime_list)"
   ]
  },
  {
   "cell_type": "code",
   "execution_count": 19,
   "metadata": {},
   "outputs": [
    {
     "data": {
      "text/plain": [
       "0.9035552025380116"
      ]
     },
     "execution_count": 19,
     "metadata": {},
     "output_type": "execute_result"
    }
   ],
   "source": [
    "similarity_measure(anime_list)"
   ]
  },
  {
   "attachments": {},
   "cell_type": "markdown",
   "metadata": {},
   "source": [
    "* Using 3 genres in combinations:"
   ]
  },
  {
   "cell_type": "code",
   "execution_count": 20,
   "metadata": {},
   "outputs": [
    {
     "data": {
      "text/plain": [
       "(9211, 2506)"
      ]
     },
     "execution_count": 20,
     "metadata": {},
     "output_type": "execute_result"
    }
   ],
   "source": [
    "genres_str = anime['genre'].str.split(',').astype(str)\n",
    "\n",
    "tfidf = TfidfVectorizer(analyzer='word', ngram_range=(1, 3), min_df=0)\n",
    "tfidf_matrix = tfidf.fit_transform(genres_str)\n",
    "\n",
    "cosine_sim = linear_kernel(tfidf_matrix, tfidf_matrix)\n",
    "\n",
    "tfidf_matrix.shape"
   ]
  },
  {
   "cell_type": "code",
   "execution_count": 26,
   "metadata": {},
   "outputs": [
    {
     "data": {
      "text/html": [
       "<div>\n",
       "<style scoped>\n",
       "    .dataframe tbody tr th:only-of-type {\n",
       "        vertical-align: middle;\n",
       "    }\n",
       "\n",
       "    .dataframe tbody tr th {\n",
       "        vertical-align: top;\n",
       "    }\n",
       "\n",
       "    .dataframe thead th {\n",
       "        text-align: right;\n",
       "    }\n",
       "</style>\n",
       "<table border=\"1\" class=\"dataframe\">\n",
       "  <thead>\n",
       "    <tr style=\"text-align: right;\">\n",
       "      <th></th>\n",
       "      <th>Anime</th>\n",
       "      <th>Similarity</th>\n",
       "      <th>Type</th>\n",
       "      <th>Rating</th>\n",
       "    </tr>\n",
       "  </thead>\n",
       "  <tbody>\n",
       "    <tr>\n",
       "      <th>0</th>\n",
       "      <td>Mousou Dairinin</td>\n",
       "      <td>0.951487</td>\n",
       "      <td>TV</td>\n",
       "      <td>7.74</td>\n",
       "    </tr>\n",
       "    <tr>\n",
       "      <th>1</th>\n",
       "      <td>Higurashi no Naku Koro ni Kai</td>\n",
       "      <td>0.798029</td>\n",
       "      <td>TV</td>\n",
       "      <td>8.41</td>\n",
       "    </tr>\n",
       "    <tr>\n",
       "      <th>2</th>\n",
       "      <td>Higurashi no Naku Koro ni</td>\n",
       "      <td>0.759862</td>\n",
       "      <td>TV</td>\n",
       "      <td>8.17</td>\n",
       "    </tr>\n",
       "    <tr>\n",
       "      <th>3</th>\n",
       "      <td>Higurashi no Naku Koro ni Rei</td>\n",
       "      <td>0.754682</td>\n",
       "      <td>OVA</td>\n",
       "      <td>7.56</td>\n",
       "    </tr>\n",
       "    <tr>\n",
       "      <th>4</th>\n",
       "      <td>Shigofumi</td>\n",
       "      <td>0.734848</td>\n",
       "      <td>TV</td>\n",
       "      <td>7.62</td>\n",
       "    </tr>\n",
       "    <tr>\n",
       "      <th>5</th>\n",
       "      <td>Himitsu: The Revelation</td>\n",
       "      <td>0.725537</td>\n",
       "      <td>TV</td>\n",
       "      <td>7.42</td>\n",
       "    </tr>\n",
       "    <tr>\n",
       "      <th>6</th>\n",
       "      <td>Hikari to Mizu no Daphne</td>\n",
       "      <td>0.706674</td>\n",
       "      <td>TV</td>\n",
       "      <td>6.87</td>\n",
       "    </tr>\n",
       "    <tr>\n",
       "      <th>7</th>\n",
       "      <td>Monster</td>\n",
       "      <td>0.702523</td>\n",
       "      <td>TV</td>\n",
       "      <td>8.72</td>\n",
       "    </tr>\n",
       "    <tr>\n",
       "      <th>8</th>\n",
       "      <td>AD Police</td>\n",
       "      <td>0.675006</td>\n",
       "      <td>OVA</td>\n",
       "      <td>6.47</td>\n",
       "    </tr>\n",
       "    <tr>\n",
       "      <th>9</th>\n",
       "      <td>Jigoku Shoujo Mitsuganae</td>\n",
       "      <td>0.659810</td>\n",
       "      <td>TV</td>\n",
       "      <td>7.81</td>\n",
       "    </tr>\n",
       "  </tbody>\n",
       "</table>\n",
       "</div>"
      ],
      "text/plain": [
       "                           Anime  Similarity Type  Rating\n",
       "0                Mousou Dairinin    0.951487   TV    7.74\n",
       "1  Higurashi no Naku Koro ni Kai    0.798029   TV    8.41\n",
       "2      Higurashi no Naku Koro ni    0.759862   TV    8.17\n",
       "3  Higurashi no Naku Koro ni Rei    0.754682  OVA    7.56\n",
       "4                      Shigofumi    0.734848   TV    7.62\n",
       "5        Himitsu: The Revelation    0.725537   TV    7.42\n",
       "6       Hikari to Mizu no Daphne    0.706674   TV    6.87\n",
       "7                        Monster    0.702523   TV    8.72\n",
       "8                      AD Police    0.675006  OVA    6.47\n",
       "9       Jigoku Shoujo Mitsuganae    0.659810   TV    7.81"
      ]
     },
     "execution_count": 26,
     "metadata": {},
     "output_type": "execute_result"
    }
   ],
   "source": [
    "get_recommendations('Death Note', highest_rating=False, similarity=True)"
   ]
  },
  {
   "cell_type": "code",
   "execution_count": 22,
   "metadata": {},
   "outputs": [
    {
     "data": {
      "text/plain": [
       "0.9227381733148357"
      ]
     },
     "execution_count": 22,
     "metadata": {},
     "output_type": "execute_result"
    }
   ],
   "source": [
    "similarity_measure(anime_list)"
   ]
  },
  {
   "cell_type": "code",
   "execution_count": 23,
   "metadata": {},
   "outputs": [
    {
     "data": {
      "text/plain": [
       "0.23369766344766343"
      ]
     },
     "execution_count": 23,
     "metadata": {},
     "output_type": "execute_result"
    }
   ],
   "source": [
    "diversity_measure(anime_list)"
   ]
  },
  {
   "attachments": {},
   "cell_type": "markdown",
   "metadata": {},
   "source": [
    "* Similarity score and diversity of the recommendations did not change much, therefore we can continue to use 4 genres for ngrams."
   ]
  }
 ],
 "metadata": {
  "kernelspec": {
   "display_name": "Python 3",
   "language": "python",
   "name": "python3"
  },
  "language_info": {
   "codemirror_mode": {
    "name": "ipython",
    "version": 3
   },
   "file_extension": ".py",
   "mimetype": "text/x-python",
   "name": "python",
   "nbconvert_exporter": "python",
   "pygments_lexer": "ipython3",
   "version": "3.9.0"
  },
  "orig_nbformat": 4
 },
 "nbformat": 4,
 "nbformat_minor": 2
}
