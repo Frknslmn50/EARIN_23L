{
 "cells": [
  {
   "attachments": {},
   "cell_type": "markdown",
   "metadata": {},
   "source": [
    "# Q-Learning Implementation"
   ]
  },
  {
   "attachments": {},
   "cell_type": "markdown",
   "metadata": {},
   "source": [
    "* Importing necessary libraries:"
   ]
  },
  {
   "cell_type": "code",
   "execution_count": 50,
   "metadata": {},
   "outputs": [],
   "source": [
    "import gymnasium as gym\n",
    "import numpy as np\n",
    "import matplotlib.pyplot as plt\n",
    "import moviepy"
   ]
  },
  {
   "attachments": {},
   "cell_type": "markdown",
   "metadata": {},
   "source": [
    "* Defining the Q-Learning Class:"
   ]
  },
  {
   "cell_type": "code",
   "execution_count": 85,
   "metadata": {},
   "outputs": [],
   "source": [
    "class QLearningAgent:\n",
    "    def __init__(self, env, learning_rate, discount_factor, exploration_rate, max_exploration_rate,\n",
    "                 min_exploration_rate, exploration_decay_rate):\n",
    "        \"\"\"\n",
    "        Initialize the Q-Learning agent.\n",
    "\n",
    "        Args:\n",
    "            env: The Gym environment.\n",
    "            learning_rate: The learning rate (alpha) for Q-value updates.\n",
    "            discount_factor: The discount factor (gamma) for future rewards.\n",
    "            exploration_rate: The initial exploration rate (epsilon) for epsilon-greedy policy.\n",
    "            max_exploration_rate: The maximum exploration rate.\n",
    "            min_exploration_rate: The minimum exploration rate.\n",
    "            exploration_decay_rate: The decay rate for exploration rate.\n",
    "\n",
    "        \"\"\"\n",
    "        self.env = env\n",
    "        self.learning_rate = learning_rate\n",
    "        self.discount_factor = discount_factor\n",
    "        self.exploration_rate = exploration_rate\n",
    "        self.max_exploration_rate = max_exploration_rate\n",
    "        self.min_exploration_rate = min_exploration_rate\n",
    "        self.exploration_decay_rate = exploration_decay_rate\n",
    "\n",
    "        self.num_states = env.observation_space.n\n",
    "        self.num_actions = env.action_space.n\n",
    "        self.q_table = np.zeros((self.num_states, self.num_actions))\n",
    "\n",
    "    def update_q_table(self, state, action, reward, next_state):\n",
    "        \"\"\"\n",
    "        Update the Q-table based on the observed transition.\n",
    "\n",
    "        Args:\n",
    "            state: The current state.\n",
    "            action: The taken action.\n",
    "            reward: The observed reward.\n",
    "            next_state: The next state.\n",
    "            terminated: Whether the episode is terminated.\n",
    "\n",
    "        \"\"\"\n",
    "        state = int(state)\n",
    "        next_state = int(next_state)\n",
    "        action = int(action)\n",
    "        max_q_value = np.max(self.q_table[next_state])\n",
    "        self.q_table[state, action] = (self.q_table[state, action] + self.learning_rate * \n",
    "                                       (reward + self.discount_factor * max_q_value - self.q_table[state, action]))\n",
    "\n",
    "    def train(self, num_episodes, max_steps_per_episode):\n",
    "        \"\"\"\n",
    "        Train the Q-Learning agent.\n",
    "\n",
    "        Args:\n",
    "            num_episodes: The number of episodes to train.\n",
    "            max_steps_per_episode: The maximum number of steps per episode.\n",
    "\n",
    "        Returns:\n",
    "            rewards: List of episode rewards.\n",
    "            exploration_rates: List of exploration rates.\n",
    "\n",
    "        \"\"\"\n",
    "        rewards = []\n",
    "        exploration_rates = []\n",
    "        \n",
    "        # Create a RecordVideo wrapper to record the training as a video\n",
    "        self. env = gym.wrappers.RecordVideo(self.env, \"video\", episode_trigger=lambda x: x % 100 == 0)\n",
    "\n",
    "        for episode in range(num_episodes):\n",
    "            state, _ = self.env.reset()\n",
    "            episode_reward = 0\n",
    "            terminated = False\n",
    "\n",
    "            for step in range(max_steps_per_episode):\n",
    "                # Exploration-exploitation trade-off\n",
    "                exploration_threshold = np.random.uniform(0, 1)\n",
    "                if exploration_threshold > self.exploration_rate:\n",
    "                    action = np.argmax(self.q_table[state])\n",
    "                else:\n",
    "                    action = self.env.action_space.sample()\n",
    "\n",
    "                next_state, reward, terminated, truncated, _ = self.env.step(action)\n",
    "\n",
    "                self.update_q_table(state, action, reward, next_state)\n",
    "\n",
    "                state = next_state\n",
    "                episode_reward += reward\n",
    "\n",
    "                if terminated or truncated:\n",
    "                    break\n",
    "\n",
    "            # Decay exploration rate\n",
    "            self.exploration_rate = (self.min_exploration_rate + (self.max_exploration_rate - self.min_exploration_rate)\n",
    "                                     * np.exp(-self.exploration_decay_rate * episode))\n",
    "\n",
    "            rewards.append(episode_reward)\n",
    "            exploration_rates.append(self.exploration_rate)\n",
    "        \n",
    "        self.env.close()\n",
    "\n",
    "        return rewards, exploration_rates"
   ]
  },
  {
   "attachments": {},
   "cell_type": "markdown",
   "metadata": {},
   "source": [
    "* Creating the Environment:"
   ]
  },
  {
   "cell_type": "code",
   "execution_count": 86,
   "metadata": {},
   "outputs": [],
   "source": [
    "env = gym.make('Taxi-v3',render_mode='rgb_array')"
   ]
  },
  {
   "attachments": {},
   "cell_type": "markdown",
   "metadata": {},
   "source": [
    "* Defining the Hyperparameters:"
   ]
  },
  {
   "cell_type": "code",
   "execution_count": 87,
   "metadata": {},
   "outputs": [],
   "source": [
    "num_episodes = 1000\n",
    "max_steps_per_episode = 100\n",
    "learning_rate = 0.7\n",
    "discount_factor = 0.6\n",
    "exploration_rate = 1.0\n",
    "max_exploration_rate = 1.0\n",
    "min_exploration_rate = 0.01\n",
    "exploration_decay_rate = 0.01"
   ]
  },
  {
   "attachments": {},
   "cell_type": "markdown",
   "metadata": {},
   "source": [
    "* Training the Agent:"
   ]
  },
  {
   "cell_type": "code",
   "execution_count": 88,
   "metadata": {},
   "outputs": [
    {
     "name": "stdout",
     "output_type": "stream",
     "text": [
      "Moviepy - Building video c:\\Users\\FURKANSALMAN\\PycharmProjects\\EARIN_23L\\lab6\\video\\rl-video-episode-0.mp4.\n",
      "Moviepy - Writing video c:\\Users\\FURKANSALMAN\\PycharmProjects\\EARIN_23L\\lab6\\video\\rl-video-episode-0.mp4\n",
      "\n"
     ]
    },
    {
     "name": "stderr",
     "output_type": "stream",
     "text": [
      "                                                                 \r"
     ]
    },
    {
     "name": "stdout",
     "output_type": "stream",
     "text": [
      "Moviepy - Done !\n",
      "Moviepy - video ready c:\\Users\\FURKANSALMAN\\PycharmProjects\\EARIN_23L\\lab6\\video\\rl-video-episode-0.mp4\n",
      "Moviepy - Building video c:\\Users\\FURKANSALMAN\\PycharmProjects\\EARIN_23L\\lab6\\video\\rl-video-episode-100.mp4.\n",
      "Moviepy - Writing video c:\\Users\\FURKANSALMAN\\PycharmProjects\\EARIN_23L\\lab6\\video\\rl-video-episode-100.mp4\n",
      "\n"
     ]
    },
    {
     "name": "stderr",
     "output_type": "stream",
     "text": [
      "                                                             \r"
     ]
    },
    {
     "name": "stdout",
     "output_type": "stream",
     "text": [
      "Moviepy - Done !\n",
      "Moviepy - video ready c:\\Users\\FURKANSALMAN\\PycharmProjects\\EARIN_23L\\lab6\\video\\rl-video-episode-100.mp4\n",
      "Moviepy - Building video c:\\Users\\FURKANSALMAN\\PycharmProjects\\EARIN_23L\\lab6\\video\\rl-video-episode-200.mp4.\n",
      "Moviepy - Writing video c:\\Users\\FURKANSALMAN\\PycharmProjects\\EARIN_23L\\lab6\\video\\rl-video-episode-200.mp4\n",
      "\n"
     ]
    },
    {
     "name": "stderr",
     "output_type": "stream",
     "text": [
      "                                                   \r"
     ]
    },
    {
     "name": "stdout",
     "output_type": "stream",
     "text": [
      "Moviepy - Done !\n",
      "Moviepy - video ready c:\\Users\\FURKANSALMAN\\PycharmProjects\\EARIN_23L\\lab6\\video\\rl-video-episode-200.mp4\n",
      "Moviepy - Building video c:\\Users\\FURKANSALMAN\\PycharmProjects\\EARIN_23L\\lab6\\video\\rl-video-episode-300.mp4.\n",
      "Moviepy - Writing video c:\\Users\\FURKANSALMAN\\PycharmProjects\\EARIN_23L\\lab6\\video\\rl-video-episode-300.mp4\n",
      "\n"
     ]
    },
    {
     "name": "stderr",
     "output_type": "stream",
     "text": [
      "                                                   "
     ]
    },
    {
     "name": "stdout",
     "output_type": "stream",
     "text": [
      "Moviepy - Done !\n",
      "Moviepy - video ready c:\\Users\\FURKANSALMAN\\PycharmProjects\\EARIN_23L\\lab6\\video\\rl-video-episode-300.mp4\n"
     ]
    },
    {
     "name": "stderr",
     "output_type": "stream",
     "text": [
      "\r"
     ]
    },
    {
     "name": "stdout",
     "output_type": "stream",
     "text": [
      "Moviepy - Building video c:\\Users\\FURKANSALMAN\\PycharmProjects\\EARIN_23L\\lab6\\video\\rl-video-episode-400.mp4.\n",
      "Moviepy - Writing video c:\\Users\\FURKANSALMAN\\PycharmProjects\\EARIN_23L\\lab6\\video\\rl-video-episode-400.mp4\n",
      "\n"
     ]
    },
    {
     "name": "stderr",
     "output_type": "stream",
     "text": [
      "                                                   "
     ]
    },
    {
     "name": "stdout",
     "output_type": "stream",
     "text": [
      "Moviepy - Done !\n",
      "Moviepy - video ready c:\\Users\\FURKANSALMAN\\PycharmProjects\\EARIN_23L\\lab6\\video\\rl-video-episode-400.mp4\n"
     ]
    },
    {
     "name": "stderr",
     "output_type": "stream",
     "text": [
      "\r"
     ]
    },
    {
     "name": "stdout",
     "output_type": "stream",
     "text": [
      "Moviepy - Building video c:\\Users\\FURKANSALMAN\\PycharmProjects\\EARIN_23L\\lab6\\video\\rl-video-episode-500.mp4.\n",
      "Moviepy - Writing video c:\\Users\\FURKANSALMAN\\PycharmProjects\\EARIN_23L\\lab6\\video\\rl-video-episode-500.mp4\n",
      "\n"
     ]
    },
    {
     "name": "stderr",
     "output_type": "stream",
     "text": [
      "                                                   "
     ]
    },
    {
     "name": "stdout",
     "output_type": "stream",
     "text": [
      "Moviepy - Done !\n",
      "Moviepy - video ready c:\\Users\\FURKANSALMAN\\PycharmProjects\\EARIN_23L\\lab6\\video\\rl-video-episode-500.mp4\n"
     ]
    },
    {
     "name": "stderr",
     "output_type": "stream",
     "text": [
      "\r"
     ]
    },
    {
     "name": "stdout",
     "output_type": "stream",
     "text": [
      "Moviepy - Building video c:\\Users\\FURKANSALMAN\\PycharmProjects\\EARIN_23L\\lab6\\video\\rl-video-episode-600.mp4.\n",
      "Moviepy - Writing video c:\\Users\\FURKANSALMAN\\PycharmProjects\\EARIN_23L\\lab6\\video\\rl-video-episode-600.mp4\n",
      "\n"
     ]
    },
    {
     "name": "stderr",
     "output_type": "stream",
     "text": [
      "                                                           \r"
     ]
    },
    {
     "name": "stdout",
     "output_type": "stream",
     "text": [
      "Moviepy - Done !\n",
      "Moviepy - video ready c:\\Users\\FURKANSALMAN\\PycharmProjects\\EARIN_23L\\lab6\\video\\rl-video-episode-600.mp4\n",
      "Moviepy - Building video c:\\Users\\FURKANSALMAN\\PycharmProjects\\EARIN_23L\\lab6\\video\\rl-video-episode-700.mp4.\n",
      "Moviepy - Writing video c:\\Users\\FURKANSALMAN\\PycharmProjects\\EARIN_23L\\lab6\\video\\rl-video-episode-700.mp4\n",
      "\n"
     ]
    },
    {
     "name": "stderr",
     "output_type": "stream",
     "text": [
      "                                                   "
     ]
    },
    {
     "name": "stdout",
     "output_type": "stream",
     "text": [
      "Moviepy - Done !\n",
      "Moviepy - video ready c:\\Users\\FURKANSALMAN\\PycharmProjects\\EARIN_23L\\lab6\\video\\rl-video-episode-700.mp4\n"
     ]
    },
    {
     "name": "stderr",
     "output_type": "stream",
     "text": [
      "\r"
     ]
    },
    {
     "name": "stdout",
     "output_type": "stream",
     "text": [
      "Moviepy - Building video c:\\Users\\FURKANSALMAN\\PycharmProjects\\EARIN_23L\\lab6\\video\\rl-video-episode-800.mp4.\n",
      "Moviepy - Writing video c:\\Users\\FURKANSALMAN\\PycharmProjects\\EARIN_23L\\lab6\\video\\rl-video-episode-800.mp4\n",
      "\n"
     ]
    },
    {
     "name": "stderr",
     "output_type": "stream",
     "text": [
      "                                                   "
     ]
    },
    {
     "name": "stdout",
     "output_type": "stream",
     "text": [
      "Moviepy - Done !\n",
      "Moviepy - video ready c:\\Users\\FURKANSALMAN\\PycharmProjects\\EARIN_23L\\lab6\\video\\rl-video-episode-800.mp4\n"
     ]
    },
    {
     "name": "stderr",
     "output_type": "stream",
     "text": [
      "\r"
     ]
    }
   ],
   "source": [
    "# Create Q-Learning agent\n",
    "agent = QLearningAgent(env, learning_rate, discount_factor, exploration_rate, max_exploration_rate, min_exploration_rate, exploration_decay_rate)\n",
    "\n",
    "# Train the agent\n",
    "rewards, exploration_rates = agent.train(num_episodes, max_steps_per_episode)"
   ]
  },
  {
   "attachments": {},
   "cell_type": "markdown",
   "metadata": {},
   "source": [
    "* Plotting the Rewards and Exploration Rate:"
   ]
  },
  {
   "cell_type": "code",
   "execution_count": 89,
   "metadata": {},
   "outputs": [
    {
     "data": {
      "image/png": "[encoded data removed]",
      "text/plain": [
       "<Figure size 800x800 with 2 Axes>"
      ]
     },
     "metadata": {},
     "output_type": "display_data"
    }
   ],
   "source": [
    "fig, axes = plt.subplots(2, 1, figsize=(8, 8))\n",
    "axes[0].plot(rewards)\n",
    "axes[0].set_xlabel('Episode')\n",
    "axes[0].set_ylabel('Reward')\n",
    "axes[0].set_title('Training Rewards')\n",
    "\n",
    "axes[1].plot(exploration_rates)\n",
    "axes[1].set_xlabel('Episode')\n",
    "axes[1].set_ylabel('Exploration Rate')\n",
    "axes[1].set_title('Exploration Rate Decay')\n",
    "\n",
    "plt.tight_layout()\n",
    "plt.show()"
   ]
  },
  {
   "attachments": {},
   "cell_type": "markdown",
   "metadata": {},
   "source": [
    "## Experiments (Will be added)"
   ]
  }
 ],
 "metadata": {
  "kernelspec": {
   "display_name": "Python 3",
   "language": "python",
   "name": "python3"
  },
  "language_info": {
   "codemirror_mode": {
    "name": "ipython",
    "version": 3
   },
   "file_extension": ".py",
   "mimetype": "text/x-python",
   "name": "python",
   "nbconvert_exporter": "python",
   "pygments_lexer": "ipython3",
   "version": "3.9.16"
  },
  "orig_nbformat": 4
 },
 "nbformat": 4,
 "nbformat_minor": 2
}
